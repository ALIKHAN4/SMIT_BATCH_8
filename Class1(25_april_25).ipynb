{
 "cells": [
  {
   "cell_type": "markdown",
   "id": "c4898c24",
   "metadata": {},
   "source": [
    "# Class1"
   ]
  },
  {
   "cell_type": "markdown",
   "id": "159b9e76",
   "metadata": {},
   "source": [
    "Why we use Python as our first langauage?\n",
    " - Extensive Libraries\n",
    " - Syntax simple (easy to understand)\n",
    " - Versatility\n",
    " \n",
    "Python:\n",
    "- Iterpreted langauge\n",
    "- Case sensitive"
   ]
  },
  {
   "cell_type": "code",
   "execution_count": 29,
   "id": "191a920c",
   "metadata": {},
   "outputs": [
    {
     "name": "stdout",
     "output_type": "stream",
     "text": [
      "You need to write text data in quotation\n"
     ]
    }
   ],
   "source": [
    "print('You need to write text data in quotation')"
   ]
  },
  {
   "cell_type": "code",
   "execution_count": 23,
   "id": "a97145d4",
   "metadata": {},
   "outputs": [
    {
     "name": "stdout",
     "output_type": "stream",
     "text": [
      "123\n"
     ]
    }
   ],
   "source": [
    "print(123)"
   ]
  },
  {
   "cell_type": "code",
   "execution_count": 25,
   "id": "222e5355",
   "metadata": {},
   "outputs": [
    {
     "name": "stdout",
     "output_type": "stream",
     "text": [
      "12.3\n"
     ]
    }
   ],
   "source": [
    "print(12.3)"
   ]
  },
  {
   "cell_type": "code",
   "execution_count": 38,
   "id": "41c4f03a",
   "metadata": {},
   "outputs": [
    {
     "name": "stdout",
     "output_type": "stream",
     "text": [
      "True\n"
     ]
    }
   ],
   "source": [
    "print(True)"
   ]
  },
  {
   "cell_type": "code",
   "execution_count": 33,
   "id": "1c610047",
   "metadata": {},
   "outputs": [
    {
     "name": "stdout",
     "output_type": "stream",
     "text": [
      "abc123\n"
     ]
    }
   ],
   "source": [
    "print('abc123')"
   ]
  },
  {
   "cell_type": "code",
   "execution_count": 35,
   "id": "a6d11f1b",
   "metadata": {},
   "outputs": [
    {
     "name": "stdout",
     "output_type": "stream",
     "text": [
      "abc\n"
     ]
    }
   ],
   "source": [
    "print('abc')"
   ]
  }
 ],
 "metadata": {
  "kernelspec": {
   "display_name": "Python 3 (ipykernel)",
   "language": "python",
   "name": "python3"
  },
  "language_info": {
   "codemirror_mode": {
    "name": "ipython",
    "version": 3
   },
   "file_extension": ".py",
   "mimetype": "text/x-python",
   "name": "python",
   "nbconvert_exporter": "python",
   "pygments_lexer": "ipython3",
   "version": "3.11.5"
  }
 },
 "nbformat": 4,
 "nbformat_minor": 5
}
