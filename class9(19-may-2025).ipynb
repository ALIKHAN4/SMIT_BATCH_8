{
 "cells": [
  {
   "cell_type": "markdown",
   "id": "1d462391",
   "metadata": {},
   "source": [
    "# Dictionary"
   ]
  },
  {
   "cell_type": "code",
   "execution_count": 8,
   "id": "230d65ff",
   "metadata": {},
   "outputs": [],
   "source": [
    "info = {'name':'ali khan', 'email': 'alikhan@gmail.com', 'contact': '0335-3254111'}"
   ]
  },
  {
   "cell_type": "code",
   "execution_count": 9,
   "id": "330b632b",
   "metadata": {},
   "outputs": [
    {
     "data": {
      "text/plain": [
       "{'name': 'ali khan', 'email': 'alikhan@gmail.com', 'contact': '0335-3254111'}"
      ]
     },
     "execution_count": 9,
     "metadata": {},
     "output_type": "execute_result"
    }
   ],
   "source": [
    "info"
   ]
  },
  {
   "cell_type": "code",
   "execution_count": 10,
   "id": "aec21343",
   "metadata": {},
   "outputs": [],
   "source": [
    "info = {\n",
    "    'name':'waseem bhai',\n",
    "    'email': 'waseembhai@gmail.com',\n",
    "    'contact': '03442332323'\n",
    "}"
   ]
  },
  {
   "cell_type": "code",
   "execution_count": 12,
   "id": "7551d2c5",
   "metadata": {},
   "outputs": [],
   "source": [
    "copy_dic = info.copy()"
   ]
  },
  {
   "cell_type": "code",
   "execution_count": 14,
   "id": "b8b91f44",
   "metadata": {},
   "outputs": [],
   "source": [
    "copy_dic.update({\n",
    "    'course': 'python',\n",
    "    'email': 'sattarbhai@gmail.com'\n",
    "})"
   ]
  },
  {
   "cell_type": "code",
   "execution_count": 15,
   "id": "c5214bee",
   "metadata": {},
   "outputs": [
    {
     "data": {
      "text/plain": [
       "{'name': 'waseem bhai',\n",
       " 'email': 'sattarbhai@gmail.com',\n",
       " 'contact': '03442332323',\n",
       " 'course': 'python'}"
      ]
     },
     "execution_count": 15,
     "metadata": {},
     "output_type": "execute_result"
    }
   ],
   "source": [
    "copy_dic"
   ]
  },
  {
   "cell_type": "code",
   "execution_count": 16,
   "id": "c763883d",
   "metadata": {},
   "outputs": [
    {
     "data": {
      "text/plain": [
       "{'name': 'waseem bhai',\n",
       " 'email': 'waseembhai@gmail.com',\n",
       " 'contact': '03442332323'}"
      ]
     },
     "execution_count": 16,
     "metadata": {},
     "output_type": "execute_result"
    }
   ],
   "source": [
    "info"
   ]
  },
  {
   "cell_type": "code",
   "execution_count": 17,
   "id": "dff49f00",
   "metadata": {},
   "outputs": [],
   "source": [
    "new_dic = info"
   ]
  },
  {
   "cell_type": "code",
   "execution_count": 18,
   "id": "3655e9c0",
   "metadata": {},
   "outputs": [
    {
     "data": {
      "text/plain": [
       "{'name': 'waseem bhai',\n",
       " 'email': 'waseembhai@gmail.com',\n",
       " 'contact': '03442332323'}"
      ]
     },
     "execution_count": 18,
     "metadata": {},
     "output_type": "execute_result"
    }
   ],
   "source": [
    "new_dic"
   ]
  },
  {
   "cell_type": "code",
   "execution_count": 19,
   "id": "36480449",
   "metadata": {},
   "outputs": [
    {
     "data": {
      "text/plain": [
       "{'name': 'waseem bhai',\n",
       " 'email': 'waseembhai@gmail.com',\n",
       " 'contact': '03442332323'}"
      ]
     },
     "execution_count": 19,
     "metadata": {},
     "output_type": "execute_result"
    }
   ],
   "source": [
    "info"
   ]
  },
  {
   "cell_type": "code",
   "execution_count": 20,
   "id": "71281355",
   "metadata": {},
   "outputs": [],
   "source": [
    "info.update({\n",
    "    'course': 'Python'\n",
    "})"
   ]
  },
  {
   "cell_type": "code",
   "execution_count": 21,
   "id": "8921994b",
   "metadata": {},
   "outputs": [
    {
     "data": {
      "text/plain": [
       "{'name': 'waseem bhai',\n",
       " 'email': 'waseembhai@gmail.com',\n",
       " 'contact': '03442332323',\n",
       " 'course': 'Python'}"
      ]
     },
     "execution_count": 21,
     "metadata": {},
     "output_type": "execute_result"
    }
   ],
   "source": [
    "info"
   ]
  },
  {
   "cell_type": "code",
   "execution_count": 22,
   "id": "9470231c",
   "metadata": {},
   "outputs": [
    {
     "data": {
      "text/plain": [
       "{'name': 'waseem bhai',\n",
       " 'email': 'waseembhai@gmail.com',\n",
       " 'contact': '03442332323',\n",
       " 'course': 'Python'}"
      ]
     },
     "execution_count": 22,
     "metadata": {},
     "output_type": "execute_result"
    }
   ],
   "source": [
    "new_dic"
   ]
  },
  {
   "cell_type": "code",
   "execution_count": 23,
   "id": "390577f9",
   "metadata": {},
   "outputs": [],
   "source": [
    "details = {\n",
    "    'marks': (10,20,39,49),\n",
    "    'courses': ['English', 'maths', 'urdu', 'Computer'],\n",
    "    'students' : [{'name': 'ali khan '}, {'name': 'taha khan'}, {'name': 'hamza khan'}]\n",
    "    }\n"
   ]
  },
  {
   "cell_type": "code",
   "execution_count": 27,
   "id": "3d32e1be",
   "metadata": {},
   "outputs": [
    {
     "ename": "KeyError",
     "evalue": "'studne|'",
     "output_type": "error",
     "traceback": [
      "\u001b[1;31m---------------------------------------------------------------------------\u001b[0m",
      "\u001b[1;31mKeyError\u001b[0m                                  Traceback (most recent call last)",
      "\u001b[1;32m~\\AppData\\Local\\Temp\\ipykernel_11728\\4079391057.py\u001b[0m in \u001b[0;36m<module>\u001b[1;34m\u001b[0m\n\u001b[1;32m----> 1\u001b[1;33m \u001b[0mdetails\u001b[0m\u001b[1;33m[\u001b[0m\u001b[1;34m'studne|'\u001b[0m\u001b[1;33m]\u001b[0m\u001b[1;33m\u001b[0m\u001b[1;33m\u001b[0m\u001b[0m\n\u001b[0m",
      "\u001b[1;31mKeyError\u001b[0m: 'studne|'"
     ]
    }
   ],
   "source": [
    "details['studne|']"
   ]
  },
  {
   "cell_type": "code",
   "execution_count": 30,
   "id": "dfb67231",
   "metadata": {},
   "outputs": [
    {
     "data": {
      "text/plain": [
       "{'marks': (10, 20, 39, 49),\n",
       " 'courses': ['English', 'maths', 'urdu', 'Computer'],\n",
       " 'students': [{'name': 'ali khan '},\n",
       "  {'name': 'taha khan'},\n",
       "  {'name': 'hamza khan'}]}"
      ]
     },
     "execution_count": 30,
     "metadata": {},
     "output_type": "execute_result"
    }
   ],
   "source": [
    "details"
   ]
  },
  {
   "cell_type": "code",
   "execution_count": 32,
   "id": "3e9a08c7",
   "metadata": {},
   "outputs": [
    {
     "data": {
      "text/plain": [
       "'taha khan'"
      ]
     },
     "execution_count": 32,
     "metadata": {},
     "output_type": "execute_result"
    }
   ],
   "source": [
    "details.get('students')[1].get('name')"
   ]
  },
  {
   "cell_type": "code",
   "execution_count": null,
   "id": "8a929bd7",
   "metadata": {},
   "outputs": [],
   "source": [
    "details = {\n",
    "    'marks': (10,20,39,49),\n",
    "    'courses': ['English', 'maths', 'urdu', 'Computer'],\n",
    "    'students' : [{'name': 'ali khan '}, {'name': 'taha khan'}, {'name': 'hamza khan'}]\n",
    "    }\n"
   ]
  },
  {
   "cell_type": "code",
   "execution_count": 34,
   "id": "2b4998a8",
   "metadata": {},
   "outputs": [
    {
     "data": {
      "text/plain": [
       "'Computer'"
      ]
     },
     "execution_count": 34,
     "metadata": {},
     "output_type": "execute_result"
    }
   ],
   "source": [
    "details.get('courses')[3]"
   ]
  },
  {
   "cell_type": "code",
   "execution_count": 36,
   "id": "9c27c75a",
   "metadata": {},
   "outputs": [],
   "source": [
    "detail_copy = details.copy()"
   ]
  },
  {
   "cell_type": "code",
   "execution_count": 37,
   "id": "e385da83",
   "metadata": {},
   "outputs": [
    {
     "data": {
      "text/plain": [
       "{'marks': (10, 20, 39, 49),\n",
       " 'courses': ['English', 'maths', 'urdu', 'Computer'],\n",
       " 'students': [{'name': 'ali khan '},\n",
       "  {'name': 'taha khan'},\n",
       "  {'name': 'hamza khan'}]}"
      ]
     },
     "execution_count": 37,
     "metadata": {},
     "output_type": "execute_result"
    }
   ],
   "source": [
    "detail_copy"
   ]
  },
  {
   "cell_type": "code",
   "execution_count": 41,
   "id": "54e74bc1",
   "metadata": {},
   "outputs": [],
   "source": [
    "detail_copy.get('courses')[3] = 'python'"
   ]
  },
  {
   "cell_type": "code",
   "execution_count": 42,
   "id": "7c590e9e",
   "metadata": {},
   "outputs": [
    {
     "data": {
      "text/plain": [
       "{'marks': (10, 20, 39, 49),\n",
       " 'courses': ['English', 'maths', 'urdu', 'python'],\n",
       " 'students': [{'name': 'ali khan '},\n",
       "  {'name': 'taha khan'},\n",
       "  {'name': 'hamza khan'}]}"
      ]
     },
     "execution_count": 42,
     "metadata": {},
     "output_type": "execute_result"
    }
   ],
   "source": [
    "detail_copy"
   ]
  },
  {
   "cell_type": "code",
   "execution_count": 44,
   "id": "61e36108",
   "metadata": {},
   "outputs": [],
   "source": [
    "detail_copy.get('courses')[1] = 'physics'"
   ]
  },
  {
   "cell_type": "code",
   "execution_count": 45,
   "id": "f322d246",
   "metadata": {},
   "outputs": [
    {
     "data": {
      "text/plain": [
       "{'marks': (10, 20, 39, 49),\n",
       " 'courses': ['English', 'physics', 'urdu', 'python'],\n",
       " 'students': [{'name': 'ali khan '},\n",
       "  {'name': 'taha khan'},\n",
       "  {'name': 'hamza khan'}]}"
      ]
     },
     "execution_count": 45,
     "metadata": {},
     "output_type": "execute_result"
    }
   ],
   "source": [
    "detail_copy"
   ]
  },
  {
   "cell_type": "code",
   "execution_count": 48,
   "id": "c0dfaa70",
   "metadata": {},
   "outputs": [],
   "source": [
    "detail_copy.get('students')[0].update({\n",
    "    'age': 13\n",
    "})"
   ]
  },
  {
   "cell_type": "code",
   "execution_count": 49,
   "id": "61725c00",
   "metadata": {},
   "outputs": [
    {
     "data": {
      "text/plain": [
       "{'marks': (10, 20, 39, 49),\n",
       " 'courses': ['English', 'physics', 'urdu', 'python'],\n",
       " 'students': [{'name': 'ali khan ', 'age': 13},\n",
       "  {'name': 'taha khan'},\n",
       "  {'name': 'hamza khan'}]}"
      ]
     },
     "execution_count": 49,
     "metadata": {},
     "output_type": "execute_result"
    }
   ],
   "source": [
    "detail_copy"
   ]
  },
  {
   "cell_type": "code",
   "execution_count": 50,
   "id": "0f30ec71",
   "metadata": {},
   "outputs": [],
   "source": [
    "details = detail_copy"
   ]
  },
  {
   "cell_type": "code",
   "execution_count": 51,
   "id": "5331de11",
   "metadata": {},
   "outputs": [
    {
     "data": {
      "text/plain": [
       "{'marks': (10, 20, 39, 49),\n",
       " 'courses': ['English', 'physics', 'urdu', 'python'],\n",
       " 'students': [{'name': 'ali khan ', 'age': 13},\n",
       "  {'name': 'taha khan'},\n",
       "  {'name': 'hamza khan'}]}"
      ]
     },
     "execution_count": 51,
     "metadata": {},
     "output_type": "execute_result"
    }
   ],
   "source": [
    "details.popitem()"
   ]
  },
  {
   "cell_type": "code",
   "execution_count": 52,
   "id": "62964199",
   "metadata": {},
   "outputs": [],
   "source": [
    "student = {1: {'name': 'Emma', 'age': '27', 'sex': 'Female'},\n",
    "           2: {'name': 'Mike', 'age': '22', 'sex': 'Male'}}"
   ]
  },
  {
   "cell_type": "code",
   "execution_count": 54,
   "id": "4d914a16",
   "metadata": {},
   "outputs": [
    {
     "data": {
      "text/plain": [
       "{'name': 'Emma', 'age': '27', 'sex': 'Female'}"
      ]
     },
     "execution_count": 54,
     "metadata": {},
     "output_type": "execute_result"
    }
   ],
   "source": [
    "student[1]"
   ]
  },
  {
   "cell_type": "code",
   "execution_count": 55,
   "id": "f903a977",
   "metadata": {},
   "outputs": [],
   "source": [
    "sample = dict()"
   ]
  },
  {
   "cell_type": "code",
   "execution_count": 58,
   "id": "b96f4c5b",
   "metadata": {},
   "outputs": [
    {
     "data": {
      "text/plain": [
       "dict"
      ]
     },
     "execution_count": 58,
     "metadata": {},
     "output_type": "execute_result"
    }
   ],
   "source": [
    "type(sample)"
   ]
  },
  {
   "cell_type": "code",
   "execution_count": 59,
   "id": "9a91552b",
   "metadata": {},
   "outputs": [
    {
     "name": "stdout",
     "output_type": "stream",
     "text": [
      "True\n"
     ]
    }
   ],
   "source": [
    "dict1 = {\"key1\":1, \"key2\":2}\n",
    "dict2 = {\"key2\":2, \"key1\":1}\n",
    "print(dict1 == dict2)"
   ]
  },
  {
   "cell_type": "code",
   "execution_count": 62,
   "id": "e05aa48c",
   "metadata": {},
   "outputs": [
    {
     "name": "stdout",
     "output_type": "stream",
     "text": [
      "None\n"
     ]
    }
   ],
   "source": [
    "var = details.get('nahi hai')\n",
    "print(var)"
   ]
  },
  {
   "cell_type": "code",
   "execution_count": 65,
   "id": "06ef8483",
   "metadata": {},
   "outputs": [],
   "source": [
    "lst = [\n",
    "    ('first', 1,2),\n",
    "    ('second', 2,5),\n",
    "    ('third', 3,5)\n",
    "]"
   ]
  },
  {
   "cell_type": "code",
   "execution_count": 66,
   "id": "a2bce31e",
   "metadata": {},
   "outputs": [
    {
     "ename": "ValueError",
     "evalue": "dictionary update sequence element #0 has length 3; 2 is required",
     "output_type": "error",
     "traceback": [
      "\u001b[1;31m---------------------------------------------------------------------------\u001b[0m",
      "\u001b[1;31mValueError\u001b[0m                                Traceback (most recent call last)",
      "\u001b[1;32m~\\AppData\\Local\\Temp\\ipykernel_11728\\4155558985.py\u001b[0m in \u001b[0;36m<module>\u001b[1;34m\u001b[0m\n\u001b[1;32m----> 1\u001b[1;33m \u001b[0mdict\u001b[0m\u001b[1;33m(\u001b[0m\u001b[0mlst\u001b[0m\u001b[1;33m)\u001b[0m\u001b[1;33m\u001b[0m\u001b[1;33m\u001b[0m\u001b[0m\n\u001b[0m",
      "\u001b[1;31mValueError\u001b[0m: dictionary update sequence element #0 has length 3; 2 is required"
     ]
    }
   ],
   "source": [
    "dict(lst)"
   ]
  },
  {
   "cell_type": "code",
   "execution_count": 67,
   "id": "c4b8cb15",
   "metadata": {},
   "outputs": [
    {
     "ename": "TypeError",
     "evalue": "unhashable type: 'list'",
     "output_type": "error",
     "traceback": [
      "\u001b[1;31m---------------------------------------------------------------------------\u001b[0m",
      "\u001b[1;31mTypeError\u001b[0m                                 Traceback (most recent call last)",
      "\u001b[1;32m~\\AppData\\Local\\Temp\\ipykernel_11728\\1931039008.py\u001b[0m in \u001b[0;36m<module>\u001b[1;34m\u001b[0m\n\u001b[1;32m----> 1\u001b[1;33m \u001b[0mdictionary\u001b[0m \u001b[1;33m=\u001b[0m \u001b[1;33m{\u001b[0m\u001b[1;33m[\u001b[0m\u001b[1;34m'karachi'\u001b[0m\u001b[1;33m,\u001b[0m \u001b[1;34m'multan'\u001b[0m\u001b[1;33m,\u001b[0m \u001b[1;34m'lahore'\u001b[0m\u001b[1;33m]\u001b[0m\u001b[1;33m:\u001b[0m \u001b[1;34m'cities'\u001b[0m\u001b[1;33m}\u001b[0m\u001b[1;33m\u001b[0m\u001b[1;33m\u001b[0m\u001b[0m\n\u001b[0m",
      "\u001b[1;31mTypeError\u001b[0m: unhashable type: 'list'"
     ]
    }
   ],
   "source": [
    "dictionary = {['karachi', 'multan', 'lahore']: 'cities'}"
   ]
  },
  {
   "cell_type": "code",
   "execution_count": 68,
   "id": "ec8d5552",
   "metadata": {},
   "outputs": [
    {
     "ename": "TypeError",
     "evalue": "unhashable type: 'dict'",
     "output_type": "error",
     "traceback": [
      "\u001b[1;31m---------------------------------------------------------------------------\u001b[0m",
      "\u001b[1;31mTypeError\u001b[0m                                 Traceback (most recent call last)",
      "\u001b[1;32m~\\AppData\\Local\\Temp\\ipykernel_11728\\4243800743.py\u001b[0m in \u001b[0;36m<module>\u001b[1;34m\u001b[0m\n\u001b[1;32m----> 1\u001b[1;33m \u001b[0manother_dic\u001b[0m \u001b[1;33m=\u001b[0m \u001b[1;33m{\u001b[0m\u001b[1;33m{\u001b[0m\u001b[1;34m'name'\u001b[0m\u001b[1;33m:\u001b[0m\u001b[1;34m'ali khan'\u001b[0m\u001b[1;33m}\u001b[0m\u001b[1;33m,\u001b[0m \u001b[1;34m'details'\u001b[0m\u001b[1;33m}\u001b[0m\u001b[1;33m\u001b[0m\u001b[1;33m\u001b[0m\u001b[0m\n\u001b[0m",
      "\u001b[1;31mTypeError\u001b[0m: unhashable type: 'dict'"
     ]
    }
   ],
   "source": [
    "another_dic = {{'name':'ali khan'}, 'details'}"
   ]
  },
  {
   "cell_type": "code",
   "execution_count": 69,
   "id": "98f91da2",
   "metadata": {},
   "outputs": [],
   "source": [
    "one_more_dic = {('name', 'ali khan'): 'tupple'}"
   ]
  },
  {
   "cell_type": "code",
   "execution_count": 70,
   "id": "415a0936",
   "metadata": {},
   "outputs": [
    {
     "data": {
      "text/plain": [
       "{('name', 'ali khan'): 'tupple'}"
      ]
     },
     "execution_count": 70,
     "metadata": {},
     "output_type": "execute_result"
    }
   ],
   "source": [
    "one_more_dic"
   ]
  },
  {
   "cell_type": "code",
   "execution_count": 71,
   "id": "8d04be10",
   "metadata": {},
   "outputs": [
    {
     "ename": "TypeError",
     "evalue": "unhashable type: 'set'",
     "output_type": "error",
     "traceback": [
      "\u001b[1;31m---------------------------------------------------------------------------\u001b[0m",
      "\u001b[1;31mTypeError\u001b[0m                                 Traceback (most recent call last)",
      "\u001b[1;32m~\\AppData\\Local\\Temp\\ipykernel_11728\\3088682568.py\u001b[0m in \u001b[0;36m<module>\u001b[1;34m\u001b[0m\n\u001b[1;32m----> 1\u001b[1;33m \u001b[0msets\u001b[0m \u001b[1;33m=\u001b[0m \u001b[1;33m{\u001b[0m\u001b[1;33m{\u001b[0m\u001b[1;34m'name'\u001b[0m\u001b[1;33m,\u001b[0m \u001b[1;34m'ali khan'\u001b[0m\u001b[1;33m}\u001b[0m\u001b[1;33m:\u001b[0m \u001b[1;34m'sets'\u001b[0m\u001b[1;33m}\u001b[0m\u001b[1;33m\u001b[0m\u001b[1;33m\u001b[0m\u001b[0m\n\u001b[0m",
      "\u001b[1;31mTypeError\u001b[0m: unhashable type: 'set'"
     ]
    }
   ],
   "source": [
    "sets = {{'name', 'ali khan'}: 'sets'}"
   ]
  },
  {
   "cell_type": "code",
   "execution_count": 76,
   "id": "2dfa3637",
   "metadata": {},
   "outputs": [],
   "source": [
    "new_dic = {}"
   ]
  },
  {
   "cell_type": "code",
   "execution_count": 80,
   "id": "aa6e4de9",
   "metadata": {},
   "outputs": [
    {
     "name": "stdout",
     "output_type": "stream",
     "text": [
      "Enter list of cities['karachi', 'lahore']\n"
     ]
    },
    {
     "data": {
      "text/plain": [
       "['[',\n",
       " \"'\",\n",
       " 'k',\n",
       " 'a',\n",
       " 'r',\n",
       " 'a',\n",
       " 'c',\n",
       " 'h',\n",
       " 'i',\n",
       " \"'\",\n",
       " ',',\n",
       " ' ',\n",
       " \"'\",\n",
       " 'l',\n",
       " 'a',\n",
       " 'h',\n",
       " 'o',\n",
       " 'r',\n",
       " 'e',\n",
       " \"'\",\n",
       " ']']"
      ]
     },
     "execution_count": 80,
     "metadata": {},
     "output_type": "execute_result"
    }
   ],
   "source": [
    "list(input('Enter list of cities'))"
   ]
  },
  {
   "cell_type": "code",
   "execution_count": 79,
   "id": "226954f2",
   "metadata": {},
   "outputs": [
    {
     "data": {
      "text/plain": [
       "{'cities': \"['karachi', 'lahore']\"}"
      ]
     },
     "execution_count": 79,
     "metadata": {},
     "output_type": "execute_result"
    }
   ],
   "source": [
    "new_dic"
   ]
  },
  {
   "cell_type": "code",
   "execution_count": null,
   "id": "4ee349aa",
   "metadata": {},
   "outputs": [],
   "source": []
  },
  {
   "cell_type": "code",
   "execution_count": null,
   "id": "93510eea",
   "metadata": {},
   "outputs": [],
   "source": []
  },
  {
   "cell_type": "code",
   "execution_count": null,
   "id": "f5cbbb35",
   "metadata": {},
   "outputs": [],
   "source": []
  },
  {
   "cell_type": "code",
   "execution_count": null,
   "id": "71b1fdf9",
   "metadata": {},
   "outputs": [],
   "source": []
  },
  {
   "cell_type": "code",
   "execution_count": null,
   "id": "d2484d55",
   "metadata": {},
   "outputs": [],
   "source": []
  }
 ],
 "metadata": {
  "kernelspec": {
   "display_name": "Python 3 (ipykernel)",
   "language": "python",
   "name": "python3"
  },
  "language_info": {
   "codemirror_mode": {
    "name": "ipython",
    "version": 3
   },
   "file_extension": ".py",
   "mimetype": "text/x-python",
   "name": "python",
   "nbconvert_exporter": "python",
   "pygments_lexer": "ipython3",
   "version": "3.9.13"
  }
 },
 "nbformat": 4,
 "nbformat_minor": 5
}
