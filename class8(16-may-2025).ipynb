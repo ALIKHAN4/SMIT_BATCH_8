{
 "cells": [
  {
   "cell_type": "markdown",
   "id": "17be995d",
   "metadata": {},
   "source": [
    "# sets"
   ]
  },
  {
   "cell_type": "code",
   "execution_count": 1,
   "id": "1f98d639",
   "metadata": {},
   "outputs": [],
   "source": [
    "cities = ['karachi', 'lahore', 'multan']"
   ]
  },
  {
   "cell_type": "code",
   "execution_count": 2,
   "id": "94d9f40a",
   "metadata": {},
   "outputs": [],
   "source": [
    "fruites = ('apple', 'mango', 'orange')"
   ]
  },
  {
   "cell_type": "code",
   "execution_count": 3,
   "id": "c051ae5f",
   "metadata": {},
   "outputs": [],
   "source": [
    "colors = {'orange', 'green', 'blue', 'blue'}"
   ]
  },
  {
   "cell_type": "code",
   "execution_count": 4,
   "id": "b882cea9",
   "metadata": {},
   "outputs": [
    {
     "data": {
      "text/plain": [
       "{'blue', 'green', 'orange'}"
      ]
     },
     "execution_count": 4,
     "metadata": {},
     "output_type": "execute_result"
    }
   ],
   "source": [
    "colors"
   ]
  },
  {
   "cell_type": "markdown",
   "id": "b5ba94cf",
   "metadata": {},
   "source": [
    "# Dictionary"
   ]
  },
  {
   "cell_type": "code",
   "execution_count": 5,
   "id": "dfb95042",
   "metadata": {},
   "outputs": [],
   "source": [
    "# dictionary = { key  : value}\n",
    "details = { 'name': 'Ali khan' , 'course': 'Data science', 'batch': 8 }"
   ]
  },
  {
   "cell_type": "code",
   "execution_count": 6,
   "id": "4b5b1f3d",
   "metadata": {},
   "outputs": [
    {
     "data": {
      "text/plain": [
       "dict"
      ]
     },
     "execution_count": 6,
     "metadata": {},
     "output_type": "execute_result"
    }
   ],
   "source": [
    "type(details)"
   ]
  },
  {
   "cell_type": "code",
   "execution_count": 7,
   "id": "47d3c505",
   "metadata": {},
   "outputs": [
    {
     "data": {
      "text/plain": [
       "{'name': 'Ali khan', 'course': 'Data science', 'batch': 8}"
      ]
     },
     "execution_count": 7,
     "metadata": {},
     "output_type": "execute_result"
    }
   ],
   "source": [
    "details"
   ]
  },
  {
   "cell_type": "code",
   "execution_count": 8,
   "id": "ba6e76f8",
   "metadata": {},
   "outputs": [],
   "source": [
    "lst = []"
   ]
  },
  {
   "cell_type": "code",
   "execution_count": 9,
   "id": "2f2f494e",
   "metadata": {},
   "outputs": [
    {
     "data": {
      "text/plain": [
       "[]"
      ]
     },
     "execution_count": 9,
     "metadata": {},
     "output_type": "execute_result"
    }
   ],
   "source": [
    "lst"
   ]
  },
  {
   "cell_type": "code",
   "execution_count": 10,
   "id": "205b64c7",
   "metadata": {},
   "outputs": [],
   "source": [
    "empty_dic = {}"
   ]
  },
  {
   "cell_type": "code",
   "execution_count": 11,
   "id": "1ffd6ee9",
   "metadata": {},
   "outputs": [
    {
     "data": {
      "text/plain": [
       "dict"
      ]
     },
     "execution_count": 11,
     "metadata": {},
     "output_type": "execute_result"
    }
   ],
   "source": [
    "type(empty_dic)"
   ]
  },
  {
   "cell_type": "code",
   "execution_count": 13,
   "id": "1825c8f0",
   "metadata": {},
   "outputs": [],
   "source": [
    "result = {'English': 90, 'Maths': 97, 'Physics':67, 'Computer': 95}"
   ]
  },
  {
   "cell_type": "code",
   "execution_count": 14,
   "id": "9cdac804",
   "metadata": {},
   "outputs": [
    {
     "data": {
      "text/plain": [
       "{'English': 90, 'Maths': 97, 'Physics': 67, 'Computer': 95}"
      ]
     },
     "execution_count": 14,
     "metadata": {},
     "output_type": "execute_result"
    }
   ],
   "source": [
    "result"
   ]
  },
  {
   "cell_type": "code",
   "execution_count": 15,
   "id": "a8492dc0",
   "metadata": {},
   "outputs": [
    {
     "data": {
      "text/plain": [
       "['karachi', 'lahore', 'multan']"
      ]
     },
     "execution_count": 15,
     "metadata": {},
     "output_type": "execute_result"
    }
   ],
   "source": [
    "cities"
   ]
  },
  {
   "cell_type": "code",
   "execution_count": 16,
   "id": "9baf6d74",
   "metadata": {},
   "outputs": [
    {
     "data": {
      "text/plain": [
       "'multan'"
      ]
     },
     "execution_count": 16,
     "metadata": {},
     "output_type": "execute_result"
    }
   ],
   "source": [
    "cities[2]"
   ]
  },
  {
   "cell_type": "markdown",
   "id": "caf6ef32",
   "metadata": {},
   "source": [
    "## How to access value from a dictionary"
   ]
  },
  {
   "cell_type": "code",
   "execution_count": 20,
   "id": "2aa0d453",
   "metadata": {},
   "outputs": [
    {
     "data": {
      "text/plain": [
       "97"
      ]
     },
     "execution_count": 20,
     "metadata": {},
     "output_type": "execute_result"
    }
   ],
   "source": [
    "result['Maths']"
   ]
  },
  {
   "cell_type": "code",
   "execution_count": 22,
   "id": "9d437f45",
   "metadata": {},
   "outputs": [
    {
     "ename": "KeyError",
     "evalue": "90",
     "output_type": "error",
     "traceback": [
      "\u001b[1;31m---------------------------------------------------------------------------\u001b[0m",
      "\u001b[1;31mKeyError\u001b[0m                                  Traceback (most recent call last)",
      "Cell \u001b[1;32mIn[22], line 1\u001b[0m\n\u001b[1;32m----> 1\u001b[0m result[\u001b[38;5;241m90\u001b[39m]\n",
      "\u001b[1;31mKeyError\u001b[0m: 90"
     ]
    }
   ],
   "source": [
    "result[90]"
   ]
  },
  {
   "cell_type": "code",
   "execution_count": 23,
   "id": "7663e071",
   "metadata": {},
   "outputs": [
    {
     "ename": "SyntaxError",
     "evalue": "invalid syntax (1344662792.py, line 1)",
     "output_type": "error",
     "traceback": [
      "\u001b[1;36m  Cell \u001b[1;32mIn[23], line 1\u001b[1;36m\u001b[0m\n\u001b[1;33m    result{90}\u001b[0m\n\u001b[1;37m          ^\u001b[0m\n\u001b[1;31mSyntaxError\u001b[0m\u001b[1;31m:\u001b[0m invalid syntax\n"
     ]
    }
   ],
   "source": [
    "result{90}"
   ]
  },
  {
   "cell_type": "code",
   "execution_count": 24,
   "id": "78d3ba9d",
   "metadata": {},
   "outputs": [
    {
     "ename": "TypeError",
     "evalue": "unhashable type: 'slice'",
     "output_type": "error",
     "traceback": [
      "\u001b[1;31m---------------------------------------------------------------------------\u001b[0m",
      "\u001b[1;31mTypeError\u001b[0m                                 Traceback (most recent call last)",
      "Cell \u001b[1;32mIn[24], line 1\u001b[0m\n\u001b[1;32m----> 1\u001b[0m result[:\u001b[38;5;241m90\u001b[39m]\n",
      "\u001b[1;31mTypeError\u001b[0m: unhashable type: 'slice'"
     ]
    }
   ],
   "source": [
    "result[:90]"
   ]
  },
  {
   "cell_type": "code",
   "execution_count": 27,
   "id": "07f8dcdf",
   "metadata": {},
   "outputs": [
    {
     "data": {
      "text/plain": [
       "'English'"
      ]
     },
     "execution_count": 27,
     "metadata": {},
     "output_type": "execute_result"
    }
   ],
   "source": [
    "next(iter(result))\n",
    "# It is hundered percent correct, but right now we have not discussed this thing."
   ]
  },
  {
   "cell_type": "code",
   "execution_count": 32,
   "id": "7defcdd3",
   "metadata": {},
   "outputs": [
    {
     "data": {
      "text/plain": [
       "dict_keys(['English', 'Maths', 'Physics', 'Computer'])"
      ]
     },
     "execution_count": 32,
     "metadata": {},
     "output_type": "execute_result"
    }
   ],
   "source": [
    "result.keys()"
   ]
  },
  {
   "cell_type": "code",
   "execution_count": 31,
   "id": "2c37b162",
   "metadata": {},
   "outputs": [
    {
     "ename": "TypeError",
     "evalue": "'dict_keys' object is not subscriptable",
     "output_type": "error",
     "traceback": [
      "\u001b[1;31m---------------------------------------------------------------------------\u001b[0m",
      "\u001b[1;31mTypeError\u001b[0m                                 Traceback (most recent call last)",
      "Cell \u001b[1;32mIn[31], line 1\u001b[0m\n\u001b[1;32m----> 1\u001b[0m result\u001b[38;5;241m.\u001b[39mkeys()[\u001b[38;5;241m0\u001b[39m]\n",
      "\u001b[1;31mTypeError\u001b[0m: 'dict_keys' object is not subscriptable"
     ]
    }
   ],
   "source": [
    "result.keys()[0]"
   ]
  },
  {
   "cell_type": "code",
   "execution_count": 36,
   "id": "631f0cfe",
   "metadata": {},
   "outputs": [],
   "source": [
    "keys = list(result.keys())"
   ]
  },
  {
   "cell_type": "code",
   "execution_count": 38,
   "id": "aab7c470",
   "metadata": {},
   "outputs": [
    {
     "data": {
      "text/plain": [
       "'Maths'"
      ]
     },
     "execution_count": 38,
     "metadata": {},
     "output_type": "execute_result"
    }
   ],
   "source": [
    "keys[1]"
   ]
  },
  {
   "cell_type": "code",
   "execution_count": 39,
   "id": "bdf21415",
   "metadata": {},
   "outputs": [
    {
     "data": {
      "text/plain": [
       "97"
      ]
     },
     "execution_count": 39,
     "metadata": {},
     "output_type": "execute_result"
    }
   ],
   "source": [
    "result['Maths']"
   ]
  },
  {
   "cell_type": "code",
   "execution_count": 40,
   "id": "f16ad192",
   "metadata": {},
   "outputs": [
    {
     "data": {
      "text/plain": [
       "97"
      ]
     },
     "execution_count": 40,
     "metadata": {},
     "output_type": "execute_result"
    }
   ],
   "source": [
    "result[keys[1]]"
   ]
  },
  {
   "cell_type": "code",
   "execution_count": 41,
   "id": "49991012",
   "metadata": {},
   "outputs": [
    {
     "data": {
      "text/plain": [
       "dict_items([('English', 90), ('Maths', 97), ('Physics', 67), ('Computer', 95)])"
      ]
     },
     "execution_count": 41,
     "metadata": {},
     "output_type": "execute_result"
    }
   ],
   "source": [
    "result.items()"
   ]
  },
  {
   "cell_type": "code",
   "execution_count": 43,
   "id": "b4da0687",
   "metadata": {},
   "outputs": [],
   "source": [
    "items = list(result.items())"
   ]
  },
  {
   "cell_type": "code",
   "execution_count": 45,
   "id": "c27200d8",
   "metadata": {},
   "outputs": [
    {
     "data": {
      "text/plain": [
       "[('English', 90), ('Maths', 97), ('Physics', 67), ('Computer', 95)]"
      ]
     },
     "execution_count": 45,
     "metadata": {},
     "output_type": "execute_result"
    }
   ],
   "source": [
    "items"
   ]
  },
  {
   "cell_type": "code",
   "execution_count": 46,
   "id": "a13b776c",
   "metadata": {},
   "outputs": [
    {
     "data": {
      "text/plain": [
       "('English', 90)"
      ]
     },
     "execution_count": 46,
     "metadata": {},
     "output_type": "execute_result"
    }
   ],
   "source": [
    "items[0]"
   ]
  },
  {
   "cell_type": "code",
   "execution_count": 48,
   "id": "4ea20ff5",
   "metadata": {},
   "outputs": [],
   "source": [
    "values = list(result.values())"
   ]
  },
  {
   "cell_type": "code",
   "execution_count": 49,
   "id": "3525ade8",
   "metadata": {},
   "outputs": [
    {
     "data": {
      "text/plain": [
       "90"
      ]
     },
     "execution_count": 49,
     "metadata": {},
     "output_type": "execute_result"
    }
   ],
   "source": [
    "values[0]"
   ]
  },
  {
   "cell_type": "code",
   "execution_count": 50,
   "id": "899b59cd",
   "metadata": {},
   "outputs": [
    {
     "data": {
      "text/plain": [
       "{'English': 90, 'Maths': 97, 'Physics': 67, 'Computer': 95}"
      ]
     },
     "execution_count": 50,
     "metadata": {},
     "output_type": "execute_result"
    }
   ],
   "source": [
    "result"
   ]
  },
  {
   "cell_type": "code",
   "execution_count": 51,
   "id": "2f1b8230",
   "metadata": {},
   "outputs": [],
   "source": [
    "result['Chemistry'] = 40"
   ]
  },
  {
   "cell_type": "code",
   "execution_count": 53,
   "id": "0d2cba9c",
   "metadata": {},
   "outputs": [],
   "source": [
    "result['Maths'] = 40"
   ]
  },
  {
   "cell_type": "code",
   "execution_count": 57,
   "id": "8a063555",
   "metadata": {},
   "outputs": [],
   "source": [
    "result.update({'Maths':60,'Pst': 12})"
   ]
  },
  {
   "cell_type": "code",
   "execution_count": 59,
   "id": "699a545e",
   "metadata": {},
   "outputs": [],
   "source": [
    "result.update({'Biology':70})"
   ]
  },
  {
   "cell_type": "code",
   "execution_count": 60,
   "id": "3185421c",
   "metadata": {},
   "outputs": [
    {
     "data": {
      "text/plain": [
       "{'English': 90,\n",
       " 'Maths': 60,\n",
       " 'Physics': 67,\n",
       " 'Computer': 95,\n",
       " 'Chemistry': 40,\n",
       " 'Pst': 12,\n",
       " 'Biology': 70}"
      ]
     },
     "execution_count": 60,
     "metadata": {},
     "output_type": "execute_result"
    }
   ],
   "source": [
    "result"
   ]
  },
  {
   "cell_type": "code",
   "execution_count": 61,
   "id": "d7f220f1",
   "metadata": {},
   "outputs": [
    {
     "data": {
      "text/plain": [
       "['karachi', 'lahore', 'multan']"
      ]
     },
     "execution_count": 61,
     "metadata": {},
     "output_type": "execute_result"
    }
   ],
   "source": [
    "cities"
   ]
  },
  {
   "cell_type": "code",
   "execution_count": 62,
   "id": "cd8b8b22",
   "metadata": {},
   "outputs": [
    {
     "data": {
      "text/plain": [
       "'lahore'"
      ]
     },
     "execution_count": 62,
     "metadata": {},
     "output_type": "execute_result"
    }
   ],
   "source": [
    "cities.pop(1)"
   ]
  },
  {
   "cell_type": "code",
   "execution_count": 63,
   "id": "7c5e339f",
   "metadata": {},
   "outputs": [
    {
     "data": {
      "text/plain": [
       "['karachi', 'multan']"
      ]
     },
     "execution_count": 63,
     "metadata": {},
     "output_type": "execute_result"
    }
   ],
   "source": [
    "cities"
   ]
  },
  {
   "cell_type": "code",
   "execution_count": 64,
   "id": "351759d7",
   "metadata": {},
   "outputs": [
    {
     "data": {
      "text/plain": [
       "'multan'"
      ]
     },
     "execution_count": 64,
     "metadata": {},
     "output_type": "execute_result"
    }
   ],
   "source": [
    "cities.pop()"
   ]
  },
  {
   "cell_type": "code",
   "execution_count": 68,
   "id": "2bac89dc",
   "metadata": {},
   "outputs": [
    {
     "data": {
      "text/plain": [
       "{'English': 90,\n",
       " 'Maths': 60,\n",
       " 'Physics': 67,\n",
       " 'Computer': 95,\n",
       " 'Chemistry': 40,\n",
       " 'Pst': 12,\n",
       " 'Biology': 70}"
      ]
     },
     "execution_count": 68,
     "metadata": {},
     "output_type": "execute_result"
    }
   ],
   "source": [
    "result"
   ]
  },
  {
   "cell_type": "code",
   "execution_count": 69,
   "id": "3090ae3f",
   "metadata": {},
   "outputs": [],
   "source": [
    "english_marks = result.pop('English')"
   ]
  },
  {
   "cell_type": "code",
   "execution_count": 70,
   "id": "afe12a94",
   "metadata": {},
   "outputs": [
    {
     "data": {
      "text/plain": [
       "{'Maths': 60,\n",
       " 'Physics': 67,\n",
       " 'Computer': 95,\n",
       " 'Chemistry': 40,\n",
       " 'Pst': 12,\n",
       " 'Biology': 70}"
      ]
     },
     "execution_count": 70,
     "metadata": {},
     "output_type": "execute_result"
    }
   ],
   "source": [
    "result"
   ]
  },
  {
   "cell_type": "code",
   "execution_count": 71,
   "id": "74eab70b",
   "metadata": {},
   "outputs": [
    {
     "data": {
      "text/plain": [
       "90"
      ]
     },
     "execution_count": 71,
     "metadata": {},
     "output_type": "execute_result"
    }
   ],
   "source": [
    "english_marks"
   ]
  },
  {
   "cell_type": "code",
   "execution_count": 72,
   "id": "5ef1ae65",
   "metadata": {},
   "outputs": [
    {
     "data": {
      "text/plain": [
       "('Biology', 70)"
      ]
     },
     "execution_count": 72,
     "metadata": {},
     "output_type": "execute_result"
    }
   ],
   "source": [
    "result.popitem()"
   ]
  },
  {
   "cell_type": "code",
   "execution_count": 73,
   "id": "21e82302",
   "metadata": {},
   "outputs": [
    {
     "data": {
      "text/plain": [
       "{'Maths': 60, 'Physics': 67, 'Computer': 95, 'Chemistry': 40, 'Pst': 12}"
      ]
     },
     "execution_count": 73,
     "metadata": {},
     "output_type": "execute_result"
    }
   ],
   "source": [
    "result"
   ]
  },
  {
   "cell_type": "code",
   "execution_count": 74,
   "id": "d3fc0b89",
   "metadata": {},
   "outputs": [],
   "source": [
    "pop_item = result.popitem()"
   ]
  },
  {
   "cell_type": "code",
   "execution_count": 75,
   "id": "3dc4d5ac",
   "metadata": {},
   "outputs": [
    {
     "data": {
      "text/plain": [
       "('Pst', 12)"
      ]
     },
     "execution_count": 75,
     "metadata": {},
     "output_type": "execute_result"
    }
   ],
   "source": [
    "pop_item"
   ]
  },
  {
   "cell_type": "code",
   "execution_count": 77,
   "id": "203d41d6",
   "metadata": {},
   "outputs": [
    {
     "data": {
      "text/plain": [
       "67"
      ]
     },
     "execution_count": 77,
     "metadata": {},
     "output_type": "execute_result"
    }
   ],
   "source": [
    "result['Physics']"
   ]
  },
  {
   "cell_type": "code",
   "execution_count": 78,
   "id": "da6f8fea",
   "metadata": {},
   "outputs": [
    {
     "data": {
      "text/plain": [
       "67"
      ]
     },
     "execution_count": 78,
     "metadata": {},
     "output_type": "execute_result"
    }
   ],
   "source": [
    "result.get('Physics')"
   ]
  },
  {
   "cell_type": "code",
   "execution_count": 79,
   "id": "18f0d049",
   "metadata": {},
   "outputs": [
    {
     "ename": "KeyError",
     "evalue": "'History'",
     "output_type": "error",
     "traceback": [
      "\u001b[1;31m---------------------------------------------------------------------------\u001b[0m",
      "\u001b[1;31mKeyError\u001b[0m                                  Traceback (most recent call last)",
      "Cell \u001b[1;32mIn[79], line 1\u001b[0m\n\u001b[1;32m----> 1\u001b[0m result[\u001b[38;5;124m'\u001b[39m\u001b[38;5;124mHistory\u001b[39m\u001b[38;5;124m'\u001b[39m]\n",
      "\u001b[1;31mKeyError\u001b[0m: 'History'"
     ]
    }
   ],
   "source": [
    "result['History']"
   ]
  },
  {
   "cell_type": "code",
   "execution_count": 80,
   "id": "657c60e1",
   "metadata": {},
   "outputs": [],
   "source": [
    "result.get('History')"
   ]
  },
  {
   "cell_type": "code",
   "execution_count": null,
   "id": "4581ed50",
   "metadata": {},
   "outputs": [],
   "source": []
  },
  {
   "cell_type": "code",
   "execution_count": null,
   "id": "ce6ed99a",
   "metadata": {},
   "outputs": [],
   "source": []
  },
  {
   "cell_type": "code",
   "execution_count": null,
   "id": "607b4616",
   "metadata": {},
   "outputs": [],
   "source": []
  }
 ],
 "metadata": {
  "kernelspec": {
   "display_name": "Python 3 (ipykernel)",
   "language": "python",
   "name": "python3"
  },
  "language_info": {
   "codemirror_mode": {
    "name": "ipython",
    "version": 3
   },
   "file_extension": ".py",
   "mimetype": "text/x-python",
   "name": "python",
   "nbconvert_exporter": "python",
   "pygments_lexer": "ipython3",
   "version": "3.11.5"
  }
 },
 "nbformat": 4,
 "nbformat_minor": 5
}
