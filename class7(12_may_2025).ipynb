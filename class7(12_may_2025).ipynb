{
 "cells": [
  {
   "cell_type": "code",
   "execution_count": 2,
   "id": "6ea0f0e3",
   "metadata": {},
   "outputs": [],
   "source": [
    "groceries = ['bread', 'egg', 'milk', 'yogurt', 'egg']"
   ]
  },
  {
   "cell_type": "code",
   "execution_count": 3,
   "id": "60bd1bb4",
   "metadata": {},
   "outputs": [
    {
     "data": {
      "text/plain": [
       "1"
      ]
     },
     "execution_count": 3,
     "metadata": {},
     "output_type": "execute_result"
    }
   ],
   "source": [
    "groceries.index('egg')"
   ]
  },
  {
   "cell_type": "code",
   "execution_count": 11,
   "id": "3755e2cc",
   "metadata": {},
   "outputs": [
    {
     "ename": "ValueError",
     "evalue": "list.remove(x): x not in list",
     "output_type": "error",
     "traceback": [
      "\u001b[1;31m---------------------------------------------------------------------------\u001b[0m",
      "\u001b[1;31mValueError\u001b[0m                                Traceback (most recent call last)",
      "Cell \u001b[1;32mIn[11], line 1\u001b[0m\n\u001b[1;32m----> 1\u001b[0m groceries\u001b[38;5;241m.\u001b[39mremove(\u001b[38;5;124m'\u001b[39m\u001b[38;5;124megg\u001b[39m\u001b[38;5;124m'\u001b[39m)\n",
      "\u001b[1;31mValueError\u001b[0m: list.remove(x): x not in list"
     ]
    }
   ],
   "source": [
    "groceries.remove('egg')\n",
    "# permenantly delete"
   ]
  },
  {
   "cell_type": "code",
   "execution_count": 5,
   "id": "6fd48702",
   "metadata": {},
   "outputs": [
    {
     "data": {
      "text/plain": [
       "['bread', 'milk', 'yogurt', 'egg']"
      ]
     },
     "execution_count": 5,
     "metadata": {},
     "output_type": "execute_result"
    }
   ],
   "source": [
    "groceries"
   ]
  },
  {
   "cell_type": "code",
   "execution_count": 10,
   "id": "4a56335a",
   "metadata": {},
   "outputs": [],
   "source": [
    "del groceries[2]\n",
    "# permenantly delete"
   ]
  },
  {
   "cell_type": "code",
   "execution_count": 12,
   "id": "5cfb0dc4",
   "metadata": {},
   "outputs": [
    {
     "data": {
      "text/plain": [
       "['bread', 'milk']"
      ]
     },
     "execution_count": 12,
     "metadata": {},
     "output_type": "execute_result"
    }
   ],
   "source": [
    "groceries"
   ]
  },
  {
   "cell_type": "code",
   "execution_count": 13,
   "id": "f7a9c896",
   "metadata": {},
   "outputs": [
    {
     "data": {
      "text/plain": [
       "'milk'"
      ]
     },
     "execution_count": 13,
     "metadata": {},
     "output_type": "execute_result"
    }
   ],
   "source": [
    "groceries.pop()"
   ]
  },
  {
   "cell_type": "code",
   "execution_count": 14,
   "id": "aa94d89e",
   "metadata": {},
   "outputs": [
    {
     "data": {
      "text/plain": [
       "['bread']"
      ]
     },
     "execution_count": 14,
     "metadata": {},
     "output_type": "execute_result"
    }
   ],
   "source": [
    "groceries"
   ]
  },
  {
   "cell_type": "code",
   "execution_count": 15,
   "id": "0249eec2",
   "metadata": {},
   "outputs": [],
   "source": [
    "cities = ['Karachi', 'Lahore', 'Quetta', 'Multan']"
   ]
  },
  {
   "cell_type": "code",
   "execution_count": 16,
   "id": "ac317742",
   "metadata": {},
   "outputs": [],
   "source": [
    "cities.remove('Lahore')"
   ]
  },
  {
   "cell_type": "code",
   "execution_count": 18,
   "id": "2c2b3316",
   "metadata": {},
   "outputs": [
    {
     "data": {
      "text/plain": [
       "['Karachi', 'Quetta', 'Multan']"
      ]
     },
     "execution_count": 18,
     "metadata": {},
     "output_type": "execute_result"
    }
   ],
   "source": [
    "cities"
   ]
  },
  {
   "cell_type": "code",
   "execution_count": 19,
   "id": "9c4986f9",
   "metadata": {},
   "outputs": [],
   "source": [
    "poped_value = cities.pop(1)"
   ]
  },
  {
   "cell_type": "code",
   "execution_count": 20,
   "id": "267cd169",
   "metadata": {},
   "outputs": [
    {
     "data": {
      "text/plain": [
       "'Quetta'"
      ]
     },
     "execution_count": 20,
     "metadata": {},
     "output_type": "execute_result"
    }
   ],
   "source": [
    "poped_value"
   ]
  },
  {
   "cell_type": "code",
   "execution_count": 21,
   "id": "b20f37a2",
   "metadata": {},
   "outputs": [
    {
     "data": {
      "text/plain": [
       "['Karachi', 'Multan']"
      ]
     },
     "execution_count": 21,
     "metadata": {},
     "output_type": "execute_result"
    }
   ],
   "source": [
    "cities"
   ]
  },
  {
   "cell_type": "markdown",
   "id": "bd9cd92c",
   "metadata": {},
   "source": [
    "# Delete\n",
    "- list methods\n",
    "    - remove\n",
    "    - pop\n",
    "- del keyword"
   ]
  },
  {
   "cell_type": "code",
   "execution_count": null,
   "id": "cab501d6",
   "metadata": {},
   "outputs": [],
   "source": [
    "cities.count()"
   ]
  },
  {
   "cell_type": "code",
   "execution_count": 22,
   "id": "0a4a2353",
   "metadata": {},
   "outputs": [],
   "source": [
    "groceries = ['bread', 'egg', 'milk', 'yogurt', 'egg']"
   ]
  },
  {
   "cell_type": "code",
   "execution_count": 23,
   "id": "9a21c093",
   "metadata": {},
   "outputs": [
    {
     "data": {
      "text/plain": [
       "2"
      ]
     },
     "execution_count": 23,
     "metadata": {},
     "output_type": "execute_result"
    }
   ],
   "source": [
    "groceries.count('egg')"
   ]
  },
  {
   "cell_type": "code",
   "execution_count": 25,
   "id": "f6831292",
   "metadata": {},
   "outputs": [
    {
     "data": {
      "text/plain": [
       "1"
      ]
     },
     "execution_count": 25,
     "metadata": {},
     "output_type": "execute_result"
    }
   ],
   "source": [
    "groceries.count('bread')"
   ]
  },
  {
   "cell_type": "code",
   "execution_count": 27,
   "id": "5fc0f074",
   "metadata": {},
   "outputs": [],
   "source": [
    "char = ['A', 'B', 'C', 'D']"
   ]
  },
  {
   "cell_type": "code",
   "execution_count": 28,
   "id": "7d92c027",
   "metadata": {},
   "outputs": [],
   "source": [
    "char.reverse()\n",
    "# inplace = original memory"
   ]
  },
  {
   "cell_type": "code",
   "execution_count": 34,
   "id": "c38871a7",
   "metadata": {},
   "outputs": [],
   "source": [
    "char = ['A', 'B', 'D', 'C', 'E']"
   ]
  },
  {
   "cell_type": "code",
   "execution_count": 35,
   "id": "c0365bbf",
   "metadata": {},
   "outputs": [],
   "source": [
    "char.reverse()"
   ]
  },
  {
   "cell_type": "code",
   "execution_count": 36,
   "id": "04936eac",
   "metadata": {},
   "outputs": [
    {
     "data": {
      "text/plain": [
       "['E', 'C', 'D', 'B', 'A']"
      ]
     },
     "execution_count": 36,
     "metadata": {},
     "output_type": "execute_result"
    }
   ],
   "source": [
    "char"
   ]
  },
  {
   "cell_type": "code",
   "execution_count": 37,
   "id": "7515e2f7",
   "metadata": {},
   "outputs": [],
   "source": [
    "char.sort()"
   ]
  },
  {
   "cell_type": "code",
   "execution_count": 38,
   "id": "1dc1d5da",
   "metadata": {},
   "outputs": [
    {
     "data": {
      "text/plain": [
       "['A', 'B', 'C', 'D', 'E']"
      ]
     },
     "execution_count": 38,
     "metadata": {},
     "output_type": "execute_result"
    }
   ],
   "source": [
    "char"
   ]
  },
  {
   "cell_type": "code",
   "execution_count": 39,
   "id": "fcd24c7d",
   "metadata": {},
   "outputs": [],
   "source": [
    "char.sort()"
   ]
  },
  {
   "cell_type": "code",
   "execution_count": 40,
   "id": "39624589",
   "metadata": {},
   "outputs": [
    {
     "data": {
      "text/plain": [
       "['A', 'B', 'C', 'D', 'E']"
      ]
     },
     "execution_count": 40,
     "metadata": {},
     "output_type": "execute_result"
    }
   ],
   "source": [
    "char"
   ]
  },
  {
   "cell_type": "code",
   "execution_count": 41,
   "id": "29aef2c9",
   "metadata": {},
   "outputs": [],
   "source": [
    "char.reverse()"
   ]
  },
  {
   "cell_type": "code",
   "execution_count": 42,
   "id": "43ab0153",
   "metadata": {},
   "outputs": [
    {
     "data": {
      "text/plain": [
       "['E', 'D', 'C', 'B', 'A']"
      ]
     },
     "execution_count": 42,
     "metadata": {},
     "output_type": "execute_result"
    }
   ],
   "source": [
    "char"
   ]
  },
  {
   "cell_type": "code",
   "execution_count": 48,
   "id": "65bb0020",
   "metadata": {},
   "outputs": [],
   "source": [
    "char = ['E', 'C', 'D', 'B', 'A']"
   ]
  },
  {
   "cell_type": "code",
   "execution_count": 55,
   "id": "daf507ee",
   "metadata": {},
   "outputs": [],
   "source": [
    "char.sort(reverse=True)"
   ]
  },
  {
   "cell_type": "code",
   "execution_count": 56,
   "id": "1bd35b66",
   "metadata": {},
   "outputs": [
    {
     "data": {
      "text/plain": [
       "['E', 'D', 'C', 'B', 'A']"
      ]
     },
     "execution_count": 56,
     "metadata": {},
     "output_type": "execute_result"
    }
   ],
   "source": [
    "char"
   ]
  },
  {
   "cell_type": "code",
   "execution_count": 50,
   "id": "f8b043ab",
   "metadata": {},
   "outputs": [
    {
     "data": {
      "text/plain": [
       "['A', 'B', 'D', 'C', 'E']"
      ]
     },
     "execution_count": 50,
     "metadata": {},
     "output_type": "execute_result"
    }
   ],
   "source": [
    "char"
   ]
  },
  {
   "cell_type": "code",
   "execution_count": 51,
   "id": "5dd5cd8d",
   "metadata": {},
   "outputs": [],
   "source": [
    "char.sort()"
   ]
  },
  {
   "cell_type": "code",
   "execution_count": 52,
   "id": "03e17fc5",
   "metadata": {},
   "outputs": [
    {
     "data": {
      "text/plain": [
       "['A', 'B', 'C', 'D', 'E']"
      ]
     },
     "execution_count": 52,
     "metadata": {},
     "output_type": "execute_result"
    }
   ],
   "source": [
    "char"
   ]
  },
  {
   "cell_type": "code",
   "execution_count": 53,
   "id": "e939e41b",
   "metadata": {},
   "outputs": [],
   "source": [
    "char.reverse()"
   ]
  },
  {
   "cell_type": "code",
   "execution_count": 54,
   "id": "1deeaed8",
   "metadata": {},
   "outputs": [
    {
     "data": {
      "text/plain": [
       "['E', 'D', 'C', 'B', 'A']"
      ]
     },
     "execution_count": 54,
     "metadata": {},
     "output_type": "execute_result"
    }
   ],
   "source": [
    "char"
   ]
  },
  {
   "cell_type": "code",
   "execution_count": 57,
   "id": "4bdec12b",
   "metadata": {},
   "outputs": [],
   "source": [
    "string = 'Pakistan'"
   ]
  },
  {
   "cell_type": "code",
   "execution_count": 59,
   "id": "7ff2b765",
   "metadata": {},
   "outputs": [
    {
     "data": {
      "text/plain": [
       "['Pak', 'tan']"
      ]
     },
     "execution_count": 59,
     "metadata": {},
     "output_type": "execute_result"
    }
   ],
   "source": [
    "string.split('is')"
   ]
  },
  {
   "cell_type": "code",
   "execution_count": 61,
   "id": "172e934f",
   "metadata": {},
   "outputs": [],
   "source": [
    "phone = '999-222-223'"
   ]
  },
  {
   "cell_type": "code",
   "execution_count": 64,
   "id": "aa1bacf9",
   "metadata": {},
   "outputs": [],
   "source": [
    "new_list = phone.split('-')"
   ]
  },
  {
   "cell_type": "code",
   "execution_count": 65,
   "id": "643135f4",
   "metadata": {},
   "outputs": [
    {
     "data": {
      "text/plain": [
       "['999', '222', '222']"
      ]
     },
     "execution_count": 65,
     "metadata": {},
     "output_type": "execute_result"
    }
   ],
   "source": [
    "new_list"
   ]
  },
  {
   "cell_type": "code",
   "execution_count": 74,
   "id": "24fea6f6",
   "metadata": {},
   "outputs": [],
   "source": [
    "number = '1233345'"
   ]
  },
  {
   "cell_type": "code",
   "execution_count": 75,
   "id": "2166d436",
   "metadata": {},
   "outputs": [
    {
     "data": {
      "text/plain": [
       "['12', '', '', '45']"
      ]
     },
     "execution_count": 75,
     "metadata": {},
     "output_type": "execute_result"
    }
   ],
   "source": [
    "number = '1233345'\n",
    "number.split('3')"
   ]
  },
  {
   "cell_type": "code",
   "execution_count": 76,
   "id": "fca5563c",
   "metadata": {},
   "outputs": [],
   "source": [
    "char = '123#534#345'"
   ]
  },
  {
   "cell_type": "code",
   "execution_count": 78,
   "id": "b902ca11",
   "metadata": {},
   "outputs": [],
   "source": [
    "new_list = char.split('#')"
   ]
  },
  {
   "cell_type": "code",
   "execution_count": 79,
   "id": "9e4d1622",
   "metadata": {},
   "outputs": [
    {
     "data": {
      "text/plain": [
       "['123', '534', '345']"
      ]
     },
     "execution_count": 79,
     "metadata": {},
     "output_type": "execute_result"
    }
   ],
   "source": [
    "new_list"
   ]
  },
  {
   "cell_type": "code",
   "execution_count": 81,
   "id": "f30765c0",
   "metadata": {},
   "outputs": [
    {
     "data": {
      "text/plain": [
       "'123#534#345'"
      ]
     },
     "execution_count": 81,
     "metadata": {},
     "output_type": "execute_result"
    }
   ],
   "source": [
    "'#'.join(new_list)"
   ]
  },
  {
   "cell_type": "code",
   "execution_count": 82,
   "id": "4de57b70",
   "metadata": {},
   "outputs": [],
   "source": [
    "phone = '999-222-223'"
   ]
  },
  {
   "cell_type": "code",
   "execution_count": 83,
   "id": "d0059ff4",
   "metadata": {},
   "outputs": [],
   "source": [
    "lst = phone.split('-')"
   ]
  },
  {
   "cell_type": "code",
   "execution_count": 84,
   "id": "b938da81",
   "metadata": {},
   "outputs": [
    {
     "data": {
      "text/plain": [
       "['999', '222', '223']"
      ]
     },
     "execution_count": 84,
     "metadata": {},
     "output_type": "execute_result"
    }
   ],
   "source": [
    "lst"
   ]
  },
  {
   "cell_type": "code",
   "execution_count": 85,
   "id": "92e32568",
   "metadata": {},
   "outputs": [
    {
     "data": {
      "text/plain": [
       "'999-222-223'"
      ]
     },
     "execution_count": 85,
     "metadata": {},
     "output_type": "execute_result"
    }
   ],
   "source": [
    "'-'.join(lst)"
   ]
  },
  {
   "cell_type": "code",
   "execution_count": 86,
   "id": "9874eeab",
   "metadata": {},
   "outputs": [],
   "source": [
    "number = [123, 456,890]"
   ]
  },
  {
   "cell_type": "code",
   "execution_count": 87,
   "id": "f0f8cd5d",
   "metadata": {},
   "outputs": [
    {
     "ename": "TypeError",
     "evalue": "sequence item 0: expected str instance, int found",
     "output_type": "error",
     "traceback": [
      "\u001b[1;31m---------------------------------------------------------------------------\u001b[0m",
      "\u001b[1;31mTypeError\u001b[0m                                 Traceback (most recent call last)",
      "Cell \u001b[1;32mIn[87], line 1\u001b[0m\n\u001b[1;32m----> 1\u001b[0m \u001b[38;5;124m'\u001b[39m\u001b[38;5;124m-\u001b[39m\u001b[38;5;124m'\u001b[39m\u001b[38;5;241m.\u001b[39mjoin(number)\n",
      "\u001b[1;31mTypeError\u001b[0m: sequence item 0: expected str instance, int found"
     ]
    }
   ],
   "source": [
    "'-'.join(number)"
   ]
  },
  {
   "cell_type": "markdown",
   "id": "baca3c94",
   "metadata": {},
   "source": [
    "# Shallow copy : Copy by value"
   ]
  },
  {
   "cell_type": "code",
   "execution_count": 101,
   "id": "1782a317",
   "metadata": {},
   "outputs": [],
   "source": [
    "cities = ['Karachi', 'Lahore', 'Quetta', 'Multan']"
   ]
  },
  {
   "cell_type": "code",
   "execution_count": 104,
   "id": "4a6c1ab2",
   "metadata": {},
   "outputs": [],
   "source": [
    "copy_cities = cities.copy()"
   ]
  },
  {
   "cell_type": "code",
   "execution_count": 105,
   "id": "b22d6df3",
   "metadata": {},
   "outputs": [
    {
     "data": {
      "text/plain": [
       "['Karachi', 'Lahore', 'Quetta', 'Multan']"
      ]
     },
     "execution_count": 105,
     "metadata": {},
     "output_type": "execute_result"
    }
   ],
   "source": [
    "copy_cities"
   ]
  },
  {
   "cell_type": "code",
   "execution_count": 106,
   "id": "d82edaaf",
   "metadata": {},
   "outputs": [
    {
     "data": {
      "text/plain": [
       "['Karachi', 'Lahore', 'Quetta', 'Multan']"
      ]
     },
     "execution_count": 106,
     "metadata": {},
     "output_type": "execute_result"
    }
   ],
   "source": [
    "cities"
   ]
  },
  {
   "cell_type": "code",
   "execution_count": 107,
   "id": "1c1ffe5d",
   "metadata": {},
   "outputs": [],
   "source": [
    "cities.append('Dadu')"
   ]
  },
  {
   "cell_type": "code",
   "execution_count": 108,
   "id": "aa5901c9",
   "metadata": {},
   "outputs": [
    {
     "data": {
      "text/plain": [
       "['Karachi', 'Lahore', 'Quetta', 'Multan', 'Dadu']"
      ]
     },
     "execution_count": 108,
     "metadata": {},
     "output_type": "execute_result"
    }
   ],
   "source": [
    "cities"
   ]
  },
  {
   "cell_type": "code",
   "execution_count": 109,
   "id": "0ad54027",
   "metadata": {},
   "outputs": [
    {
     "data": {
      "text/plain": [
       "['Karachi', 'Lahore', 'Quetta', 'Multan']"
      ]
     },
     "execution_count": 109,
     "metadata": {},
     "output_type": "execute_result"
    }
   ],
   "source": [
    "copy_cities"
   ]
  },
  {
   "cell_type": "code",
   "execution_count": 110,
   "id": "5d2daef2",
   "metadata": {},
   "outputs": [
    {
     "data": {
      "text/plain": [
       "2097814526400"
      ]
     },
     "execution_count": 110,
     "metadata": {},
     "output_type": "execute_result"
    }
   ],
   "source": [
    "id(copy_cities)"
   ]
  },
  {
   "cell_type": "code",
   "execution_count": 111,
   "id": "cbd393cf",
   "metadata": {},
   "outputs": [
    {
     "data": {
      "text/plain": [
       "2097806065856"
      ]
     },
     "execution_count": 111,
     "metadata": {},
     "output_type": "execute_result"
    }
   ],
   "source": [
    "id(cities)"
   ]
  },
  {
   "attachments": {
    "image.png": {
     "image/png": "[encoded data removed]"
    }
   },
   "cell_type": "markdown",
   "id": "3ecab617",
   "metadata": {},
   "source": [
    "![image.png](attachment:image.png)"
   ]
  },
  {
   "cell_type": "markdown",
   "id": "20a83da5",
   "metadata": {},
   "source": [
    "# Deep Copy : Copy by Reference"
   ]
  },
  {
   "cell_type": "code",
   "execution_count": 112,
   "id": "039f40c8",
   "metadata": {},
   "outputs": [
    {
     "data": {
      "text/plain": [
       "['Karachi', 'Lahore', 'Quetta', 'Multan', 'Dadu']"
      ]
     },
     "execution_count": 112,
     "metadata": {},
     "output_type": "execute_result"
    }
   ],
   "source": [
    "cities =  ['Karachi', 'Lahore', 'Quetta', 'Multan']"
   ]
  },
  {
   "cell_type": "code",
   "execution_count": 113,
   "id": "763e29ae",
   "metadata": {},
   "outputs": [],
   "source": [
    "another_cities = cities"
   ]
  },
  {
   "cell_type": "code",
   "execution_count": 114,
   "id": "14f97050",
   "metadata": {},
   "outputs": [
    {
     "data": {
      "text/plain": [
       "['Karachi', 'Lahore', 'Quetta', 'Multan', 'Dadu']"
      ]
     },
     "execution_count": 114,
     "metadata": {},
     "output_type": "execute_result"
    }
   ],
   "source": [
    "cities"
   ]
  },
  {
   "cell_type": "code",
   "execution_count": 116,
   "id": "64982658",
   "metadata": {},
   "outputs": [
    {
     "data": {
      "text/plain": [
       "['Karachi', 'Lahore', 'Quetta', 'Multan', 'Dadu']"
      ]
     },
     "execution_count": 116,
     "metadata": {},
     "output_type": "execute_result"
    }
   ],
   "source": [
    "another_cities"
   ]
  },
  {
   "cell_type": "code",
   "execution_count": 117,
   "id": "3abd6d7c",
   "metadata": {},
   "outputs": [],
   "source": [
    "cities.remove('Dadu')"
   ]
  },
  {
   "cell_type": "code",
   "execution_count": 118,
   "id": "2b16655d",
   "metadata": {},
   "outputs": [
    {
     "data": {
      "text/plain": [
       "['Karachi', 'Lahore', 'Quetta', 'Multan']"
      ]
     },
     "execution_count": 118,
     "metadata": {},
     "output_type": "execute_result"
    }
   ],
   "source": [
    "cities"
   ]
  },
  {
   "cell_type": "code",
   "execution_count": 119,
   "id": "0e07a826",
   "metadata": {},
   "outputs": [
    {
     "data": {
      "text/plain": [
       "['Karachi', 'Lahore', 'Quetta', 'Multan']"
      ]
     },
     "execution_count": 119,
     "metadata": {},
     "output_type": "execute_result"
    }
   ],
   "source": [
    "another_cities"
   ]
  },
  {
   "cell_type": "code",
   "execution_count": 120,
   "id": "3923760c",
   "metadata": {},
   "outputs": [
    {
     "data": {
      "text/plain": [
       "['Karachi', 'Lahore', 'Quetta', 'Multan']"
      ]
     },
     "execution_count": 120,
     "metadata": {},
     "output_type": "execute_result"
    }
   ],
   "source": [
    "cities"
   ]
  },
  {
   "cell_type": "code",
   "execution_count": 121,
   "id": "cbcf2f08",
   "metadata": {},
   "outputs": [
    {
     "data": {
      "text/plain": [
       "['Karachi', 'Lahore', 'Quetta', 'Multan']"
      ]
     },
     "execution_count": 121,
     "metadata": {},
     "output_type": "execute_result"
    }
   ],
   "source": [
    "another_cities"
   ]
  },
  {
   "cell_type": "code",
   "execution_count": 122,
   "id": "717b78de",
   "metadata": {},
   "outputs": [],
   "source": [
    "another_cities.remove('Multan')"
   ]
  },
  {
   "cell_type": "code",
   "execution_count": 123,
   "id": "3c712152",
   "metadata": {},
   "outputs": [
    {
     "data": {
      "text/plain": [
       "['Karachi', 'Lahore', 'Quetta']"
      ]
     },
     "execution_count": 123,
     "metadata": {},
     "output_type": "execute_result"
    }
   ],
   "source": [
    "another_cities"
   ]
  },
  {
   "cell_type": "code",
   "execution_count": 124,
   "id": "8808fcee",
   "metadata": {},
   "outputs": [
    {
     "data": {
      "text/plain": [
       "['Karachi', 'Lahore', 'Quetta']"
      ]
     },
     "execution_count": 124,
     "metadata": {},
     "output_type": "execute_result"
    }
   ],
   "source": [
    "cities"
   ]
  },
  {
   "attachments": {
    "image.png": {
     "image/png": "[encoded data removed]"
    }
   },
   "cell_type": "markdown",
   "id": "740bcc0a",
   "metadata": {},
   "source": [
    "![image.png](attachment:image.png)"
   ]
  },
  {
   "cell_type": "code",
   "execution_count": null,
   "id": "f65e7855",
   "metadata": {},
   "outputs": [],
   "source": []
  },
  {
   "cell_type": "code",
   "execution_count": null,
   "id": "5e5247c8",
   "metadata": {},
   "outputs": [],
   "source": []
  },
  {
   "cell_type": "markdown",
   "id": "aba224ac",
   "metadata": {},
   "source": [
    "## Tuple"
   ]
  },
  {
   "cell_type": "code",
   "execution_count": 88,
   "id": "55c9b152",
   "metadata": {},
   "outputs": [],
   "source": [
    "fruits = ('mango', 'orange', 'apple')"
   ]
  },
  {
   "cell_type": "code",
   "execution_count": 89,
   "id": "6b6d2dad",
   "metadata": {},
   "outputs": [
    {
     "data": {
      "text/plain": [
       "'orange'"
      ]
     },
     "execution_count": 89,
     "metadata": {},
     "output_type": "execute_result"
    }
   ],
   "source": [
    "fruits[1]"
   ]
  },
  {
   "cell_type": "code",
   "execution_count": 90,
   "id": "f3ec1541",
   "metadata": {},
   "outputs": [
    {
     "data": {
      "text/plain": [
       "'apple'"
      ]
     },
     "execution_count": 90,
     "metadata": {},
     "output_type": "execute_result"
    }
   ],
   "source": [
    "fruits[2]"
   ]
  },
  {
   "cell_type": "code",
   "execution_count": 91,
   "id": "ceafdf9c",
   "metadata": {},
   "outputs": [
    {
     "ename": "IndexError",
     "evalue": "tuple index out of range",
     "output_type": "error",
     "traceback": [
      "\u001b[1;31m---------------------------------------------------------------------------\u001b[0m",
      "\u001b[1;31mIndexError\u001b[0m                                Traceback (most recent call last)",
      "Cell \u001b[1;32mIn[91], line 1\u001b[0m\n\u001b[1;32m----> 1\u001b[0m fruits[\u001b[38;5;241m4\u001b[39m]\n",
      "\u001b[1;31mIndexError\u001b[0m: tuple index out of range"
     ]
    }
   ],
   "source": [
    "fruits[4]"
   ]
  },
  {
   "cell_type": "code",
   "execution_count": 93,
   "id": "21536940",
   "metadata": {},
   "outputs": [
    {
     "data": {
      "text/plain": [
       "('mango', 'orange', 'apple')"
      ]
     },
     "execution_count": 93,
     "metadata": {},
     "output_type": "execute_result"
    }
   ],
   "source": [
    "fruits[0:3]"
   ]
  },
  {
   "cell_type": "code",
   "execution_count": 94,
   "id": "276de1ab",
   "metadata": {},
   "outputs": [
    {
     "data": {
      "text/plain": [
       "1"
      ]
     },
     "execution_count": 94,
     "metadata": {},
     "output_type": "execute_result"
    }
   ],
   "source": [
    "fruits.count('mango')"
   ]
  },
  {
   "cell_type": "code",
   "execution_count": 96,
   "id": "c2ec617d",
   "metadata": {},
   "outputs": [
    {
     "data": {
      "text/plain": [
       "1"
      ]
     },
     "execution_count": 96,
     "metadata": {},
     "output_type": "execute_result"
    }
   ],
   "source": [
    "fruits.index('orange')"
   ]
  },
  {
   "cell_type": "code",
   "execution_count": 97,
   "id": "deac9faf",
   "metadata": {},
   "outputs": [],
   "source": [
    "new_fruits = fruits"
   ]
  },
  {
   "cell_type": "code",
   "execution_count": 98,
   "id": "fb0d0578",
   "metadata": {},
   "outputs": [
    {
     "data": {
      "text/plain": [
       "('mango', 'orange', 'apple')"
      ]
     },
     "execution_count": 98,
     "metadata": {},
     "output_type": "execute_result"
    }
   ],
   "source": [
    "fruits"
   ]
  },
  {
   "cell_type": "code",
   "execution_count": 99,
   "id": "a00e25f1",
   "metadata": {},
   "outputs": [
    {
     "data": {
      "text/plain": [
       "('mango', 'orange', 'apple')"
      ]
     },
     "execution_count": 99,
     "metadata": {},
     "output_type": "execute_result"
    }
   ],
   "source": [
    "new_fruits"
   ]
  },
  {
   "cell_type": "markdown",
   "id": "d66b80fc",
   "metadata": {},
   "source": [
    "# ali khan "
   ]
  },
  {
   "cell_type": "code",
   "execution_count": null,
   "id": "bdcdbc0f",
   "metadata": {},
   "outputs": [],
   "source": []
  },
  {
   "cell_type": "code",
   "execution_count": null,
   "id": "2e72ab2c",
   "metadata": {},
   "outputs": [],
   "source": []
  },
  {
   "cell_type": "code",
   "execution_count": null,
   "id": "10b6c41f",
   "metadata": {},
   "outputs": [],
   "source": []
  }
 ],
 "metadata": {
  "kernelspec": {
   "display_name": "Python 3 (ipykernel)",
   "language": "python",
   "name": "python3"
  },
  "language_info": {
   "codemirror_mode": {
    "name": "ipython",
    "version": 3
   },
   "file_extension": ".py",
   "mimetype": "text/x-python",
   "name": "python",
   "nbconvert_exporter": "python",
   "pygments_lexer": "ipython3",
   "version": "3.11.5"
  }
 },
 "nbformat": 4,
 "nbformat_minor": 5
}
