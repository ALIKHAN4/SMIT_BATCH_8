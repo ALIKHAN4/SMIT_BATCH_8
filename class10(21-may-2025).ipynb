{
 "cells": [
  {
   "cell_type": "code",
   "execution_count": 1,
   "id": "a7849945",
   "metadata": {},
   "outputs": [
    {
     "name": "stdout",
     "output_type": "stream",
     "text": [
      "I am writing the code\n"
     ]
    }
   ],
   "source": [
    "print('I am writing the code')"
   ]
  },
  {
   "cell_type": "markdown",
   "id": "da328440",
   "metadata": {},
   "source": [
    "# Conditional Statement"
   ]
  },
  {
   "cell_type": "code",
   "execution_count": 7,
   "id": "7059cb7a",
   "metadata": {},
   "outputs": [
    {
     "name": "stdout",
     "output_type": "stream",
     "text": [
      "Enter first number12\n",
      "Enter second number13\n"
     ]
    }
   ],
   "source": [
    "num1 = int(input('Enter first number'))\n",
    "num2 = int(input('Enter second number'))\n",
    "\n",
    "# if condition:\n",
    "#     body\n",
    "\n",
    "if num1 > num2:\n",
    "    print(f'Num1 which is {num1} is greater than Num2 which is {num2}')\n",
    "    \n",
    "\n"
   ]
  },
  {
   "cell_type": "code",
   "execution_count": 6,
   "id": "d2b512d4",
   "metadata": {},
   "outputs": [
    {
     "data": {
      "text/plain": [
       "False"
      ]
     },
     "execution_count": 6,
     "metadata": {},
     "output_type": "execute_result"
    }
   ],
   "source": [
    "num1 > num2"
   ]
  },
  {
   "cell_type": "code",
   "execution_count": 8,
   "id": "51373f72",
   "metadata": {},
   "outputs": [
    {
     "name": "stdout",
     "output_type": "stream",
     "text": [
      "Enter first number12\n",
      "Enter second number13\n",
      "Num1 which is 12 is less than Num2 which is 13\n"
     ]
    }
   ],
   "source": [
    "num1 = int(input('Enter first number'))\n",
    "num2 = int(input('Enter second number'))\n",
    "\n",
    "# if condition:\n",
    "#     body\n",
    "\n",
    "if num1 > num2:\n",
    "    print(f'Num1 which is {num1} is greater than Num2 which is {num2}')\n",
    "else:\n",
    "    print(f'Num1 which is {num1} is less than Num2 which is {num2}')\n",
    "    \n",
    "\n"
   ]
  },
  {
   "cell_type": "code",
   "execution_count": 10,
   "id": "46c40f90",
   "metadata": {},
   "outputs": [
    {
     "name": "stdout",
     "output_type": "stream",
     "text": [
      "Enter any number13\n",
      "The number is odd\n"
     ]
    }
   ],
   "source": [
    "number = int(input('Enter any number'))\n",
    "if number % 2 == 0:\n",
    "    print('The number is even')\n",
    "else:\n",
    "    print('The number is odd')"
   ]
  },
  {
   "cell_type": "code",
   "execution_count": 12,
   "id": "1a276f96",
   "metadata": {},
   "outputs": [
    {
     "name": "stdout",
     "output_type": "stream",
     "text": [
      "Enter any number10\n",
      "The number is divisible by 5\n"
     ]
    }
   ],
   "source": [
    "number = int(input('Enter any number'))\n",
    "if number % 5 == 0:\n",
    "    print('The number is divisible by 5')\n",
    "else:\n",
    "    print('Not divisible by 5')"
   ]
  },
  {
   "cell_type": "code",
   "execution_count": 17,
   "id": "354048ff",
   "metadata": {},
   "outputs": [
    {
     "name": "stdout",
     "output_type": "stream",
     "text": [
      "Enter any hero: batman\n",
      "Yes this hero is present in the heroes list\n"
     ]
    }
   ],
   "source": [
    "heroes = ['Spiderman', 'Batman', 'Ironman', 'Superman', 'Hulk']\n",
    "hero = input('Enter any hero: ').capitalize()\n",
    "# print(hero)\n",
    "if hero in heroes:\n",
    "    print('Yes this hero is present in the heroes list')\n",
    "else:\n",
    "    print('No not present')"
   ]
  },
  {
   "cell_type": "code",
   "execution_count": 20,
   "id": "4fa2da81",
   "metadata": {},
   "outputs": [
    {
     "name": "stdout",
     "output_type": "stream",
     "text": [
      "Enter teacher name: ali khan\n",
      "Yes he is our teacher\n"
     ]
    }
   ],
   "source": [
    "details = {\n",
    "    'name':'ali khan',\n",
    "    'course':'python',\n",
    "    'campus': 'gulshan'\n",
    "}\n",
    "\n",
    "teacher = input('Enter teacher name: ')\n",
    "if teacher == details['name']:\n",
    "    print('Yes he is our teacher')"
   ]
  },
  {
   "cell_type": "code",
   "execution_count": 19,
   "id": "f59585ca",
   "metadata": {},
   "outputs": [
    {
     "data": {
      "text/plain": [
       "'ali khan'"
      ]
     },
     "execution_count": 19,
     "metadata": {},
     "output_type": "execute_result"
    }
   ],
   "source": [
    "details['name']"
   ]
  },
  {
   "cell_type": "code",
   "execution_count": 24,
   "id": "3beaa261",
   "metadata": {},
   "outputs": [
    {
     "name": "stdout",
     "output_type": "stream",
     "text": [
      "Enter teacher name: ali khan\n",
      "Enter course: web\n",
      "No you can not\n"
     ]
    }
   ],
   "source": [
    "details = {\n",
    "    'name':'ali khan',\n",
    "    'course':'python',\n",
    "    'campus': 'gulshan'\n",
    "}\n",
    "\n",
    "teacher = input('Enter teacher name: ')\n",
    "course = input('Enter course: ')\n",
    "if (teacher == details['name']) and (course == details['course']) :\n",
    "    print('Yes you can conduct the class')\n",
    "else:\n",
    "    print('No you can not')"
   ]
  },
  {
   "cell_type": "code",
   "execution_count": 22,
   "id": "017b0e2b",
   "metadata": {},
   "outputs": [
    {
     "data": {
      "text/plain": [
       "False"
      ]
     },
     "execution_count": 22,
     "metadata": {},
     "output_type": "execute_result"
    }
   ],
   "source": [
    "True and False"
   ]
  },
  {
   "cell_type": "code",
   "execution_count": 26,
   "id": "72a10b3f",
   "metadata": {},
   "outputs": [
    {
     "name": "stdout",
     "output_type": "stream",
     "text": [
      "Enter teacher name: taha khan\n",
      "Enter course: python\n",
      "Yes you can conduct the class\n"
     ]
    }
   ],
   "source": [
    "details = {\n",
    "    'name':'ali khan',\n",
    "    'course':'python',\n",
    "    'campus': 'gulshan'\n",
    "}\n",
    "\n",
    "teacher = input('Enter teacher name: ')\n",
    "course = input('Enter course: ')\n",
    "if (teacher == details['name']) or (course == details['course']) :\n",
    "    print('Yes you can conduct the class')\n",
    "else:\n",
    "    print('No you can not')"
   ]
  },
  {
   "cell_type": "code",
   "execution_count": 28,
   "id": "514954fe",
   "metadata": {},
   "outputs": [
    {
     "data": {
      "text/plain": [
       "True"
      ]
     },
     "execution_count": 28,
     "metadata": {},
     "output_type": "execute_result"
    }
   ],
   "source": [
    "False or True"
   ]
  },
  {
   "cell_type": "markdown",
   "id": "faf55616",
   "metadata": {},
   "source": [
    "# Multiple Conditions"
   ]
  },
  {
   "cell_type": "markdown",
   "id": "b3863481",
   "metadata": {},
   "source": [
    "marks >= 85\n",
    "grade a1\n",
    "\n",
    "#marks >= 70  and marks < 85\n",
    "\n",
    "70 <= marks < 85\n",
    "grade a\n",
    "\n",
    "60 <= marks < 70\n",
    "grade b\n",
    "\n",
    "50 <= marks < 60\n",
    "grade c\n",
    "\n",
    "else\n",
    "fail"
   ]
  },
  {
   "cell_type": "code",
   "execution_count": 36,
   "id": "d7544467",
   "metadata": {},
   "outputs": [
    {
     "name": "stdout",
     "output_type": "stream",
     "text": [
      "Enter marks: 49.9999\n",
      "Try again\n"
     ]
    }
   ],
   "source": [
    "marks = float(input('Enter marks: '))\n",
    "if marks >= 85:\n",
    "    print('Grade A1')\n",
    "elif 70 <= marks < 85:\n",
    "    print('Grade A')\n",
    "elif 60 <= marks < 70:\n",
    "    print('Grade B')\n",
    "elif 50 <= marks < 60:\n",
    "    print('Grade C')\n",
    "else:\n",
    "    print('Try again')"
   ]
  },
  {
   "cell_type": "markdown",
   "id": "748e317b",
   "metadata": {},
   "source": [
    "# Nested if "
   ]
  },
  {
   "cell_type": "code",
   "execution_count": null,
   "id": "43f98f26",
   "metadata": {},
   "outputs": [],
   "source": [
    "-"
   ]
  }
 ],
 "metadata": {
  "kernelspec": {
   "display_name": "Python 3 (ipykernel)",
   "language": "python",
   "name": "python3"
  },
  "language_info": {
   "codemirror_mode": {
    "name": "ipython",
    "version": 3
   },
   "file_extension": ".py",
   "mimetype": "text/x-python",
   "name": "python",
   "nbconvert_exporter": "python",
   "pygments_lexer": "ipython3",
   "version": "3.9.13"
  }
 },
 "nbformat": 4,
 "nbformat_minor": 5
}
