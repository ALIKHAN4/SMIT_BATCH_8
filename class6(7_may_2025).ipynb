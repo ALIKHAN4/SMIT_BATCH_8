{
 "cells": [
  {
   "cell_type": "code",
   "execution_count": 6,
   "id": "c58266b6",
   "metadata": {},
   "outputs": [],
   "source": [
    "cities = ['Karachi', 'Lahore', 'Quetta', 'Multan']"
   ]
  },
  {
   "cell_type": "code",
   "execution_count": 2,
   "id": "85a0c707",
   "metadata": {},
   "outputs": [
    {
     "data": {
      "text/plain": [
       "4"
      ]
     },
     "execution_count": 2,
     "metadata": {},
     "output_type": "execute_result"
    }
   ],
   "source": [
    "len(cities)"
   ]
  },
  {
   "cell_type": "code",
   "execution_count": 3,
   "id": "327b7bae",
   "metadata": {},
   "outputs": [
    {
     "data": {
      "text/plain": [
       "list"
      ]
     },
     "execution_count": 3,
     "metadata": {},
     "output_type": "execute_result"
    }
   ],
   "source": [
    "type(cities)"
   ]
  },
  {
   "cell_type": "code",
   "execution_count": 4,
   "id": "7bcfe882",
   "metadata": {},
   "outputs": [
    {
     "name": "stdout",
     "output_type": "stream",
     "text": [
      "['Karachi', 'Lahore', 'Quetta', 'Multan']\n"
     ]
    }
   ],
   "source": [
    "print(cities)"
   ]
  },
  {
   "cell_type": "markdown",
   "id": "2ae18417",
   "metadata": {},
   "source": [
    "# Indexing and Slicing"
   ]
  },
  {
   "cell_type": "code",
   "execution_count": 14,
   "id": "4dcfc743",
   "metadata": {},
   "outputs": [
    {
     "data": {
      "text/plain": [
       "['Karachi', 'Lahore', 'Quetta', 'Multan', 'Peshawar', 'Muree']"
      ]
     },
     "execution_count": 14,
     "metadata": {},
     "output_type": "execute_result"
    }
   ],
   "source": [
    "cities"
   ]
  },
  {
   "cell_type": "code",
   "execution_count": 15,
   "id": "3d8325e6",
   "metadata": {},
   "outputs": [
    {
     "data": {
      "text/plain": [
       "'Quetta'"
      ]
     },
     "execution_count": 15,
     "metadata": {},
     "output_type": "execute_result"
    }
   ],
   "source": [
    "cities[2]"
   ]
  },
  {
   "cell_type": "code",
   "execution_count": 16,
   "id": "32434e43",
   "metadata": {},
   "outputs": [
    {
     "data": {
      "text/plain": [
       "'Muree'"
      ]
     },
     "execution_count": 16,
     "metadata": {},
     "output_type": "execute_result"
    }
   ],
   "source": [
    "cities[5]"
   ]
  },
  {
   "cell_type": "code",
   "execution_count": 17,
   "id": "213df3c1",
   "metadata": {},
   "outputs": [],
   "source": [
    "# Forward Indexing\n",
    "#             0         1          2          3          4        5\n",
    "cities = ['Karachi', 'Lahore', 'Quetta', 'Multan', 'Peshawar', 'Muree']\n"
   ]
  },
  {
   "cell_type": "code",
   "execution_count": 27,
   "id": "69eda105",
   "metadata": {},
   "outputs": [
    {
     "data": {
      "text/plain": [
       "['Karachi', 'Lahore', 'Quetta']"
      ]
     },
     "execution_count": 27,
     "metadata": {},
     "output_type": "execute_result"
    }
   ],
   "source": [
    "# cities[start : end+1]\n",
    "# start ---> Inclusive\n",
    "# end ---> Exclusive (not included)\n",
    "cities[0:3]"
   ]
  },
  {
   "cell_type": "code",
   "execution_count": 25,
   "id": "7871bccd",
   "metadata": {},
   "outputs": [
    {
     "data": {
      "text/plain": [
       "['Karachi', 'Lahore', 'Quetta']"
      ]
     },
     "execution_count": 25,
     "metadata": {},
     "output_type": "execute_result"
    }
   ],
   "source": [
    "cities[0:3] # slicing"
   ]
  },
  {
   "cell_type": "code",
   "execution_count": 24,
   "id": "ab602bf2",
   "metadata": {},
   "outputs": [
    {
     "data": {
      "text/plain": [
       "['Karachi', 'Lahore', 'Quetta', 'Multan', 'Peshawar', 'Muree']"
      ]
     },
     "execution_count": 24,
     "metadata": {},
     "output_type": "execute_result"
    }
   ],
   "source": [
    "cities"
   ]
  },
  {
   "cell_type": "code",
   "execution_count": 31,
   "id": "847104bd",
   "metadata": {},
   "outputs": [
    {
     "data": {
      "text/plain": [
       "['Quetta', 'Multan', 'Peshawar', 'Muree']"
      ]
     },
     "execution_count": 31,
     "metadata": {},
     "output_type": "execute_result"
    }
   ],
   "source": [
    "cities[2 : 6]"
   ]
  },
  {
   "cell_type": "code",
   "execution_count": 28,
   "id": "e8d958a3",
   "metadata": {},
   "outputs": [
    {
     "data": {
      "text/plain": [
       "['Karachi', 'Lahore', 'Quetta', 'Multan']"
      ]
     },
     "execution_count": 28,
     "metadata": {},
     "output_type": "execute_result"
    }
   ],
   "source": [
    "cities[0:4]"
   ]
  },
  {
   "cell_type": "code",
   "execution_count": 30,
   "id": "8b7729a1",
   "metadata": {},
   "outputs": [
    {
     "data": {
      "text/plain": [
       "['Lahore', 'Quetta', 'Multan']"
      ]
     },
     "execution_count": 30,
     "metadata": {},
     "output_type": "execute_result"
    }
   ],
   "source": [
    "cities[1:4]"
   ]
  },
  {
   "cell_type": "code",
   "execution_count": 32,
   "id": "93be3243",
   "metadata": {},
   "outputs": [
    {
     "data": {
      "text/plain": [
       "['Karachi', 'Lahore', 'Quetta', 'Multan', 'Peshawar', 'Muree']"
      ]
     },
     "execution_count": 32,
     "metadata": {},
     "output_type": "execute_result"
    }
   ],
   "source": [
    "cities"
   ]
  },
  {
   "cell_type": "code",
   "execution_count": 37,
   "id": "72a80d5f",
   "metadata": {},
   "outputs": [
    {
     "data": {
      "text/plain": [
       "['Karachi', 'Lahore', 'Quetta']"
      ]
     },
     "execution_count": 37,
     "metadata": {},
     "output_type": "execute_result"
    }
   ],
   "source": [
    "cities[: 3]"
   ]
  },
  {
   "cell_type": "code",
   "execution_count": 36,
   "id": "041e4fa2",
   "metadata": {},
   "outputs": [
    {
     "data": {
      "text/plain": [
       "'Peshawar'"
      ]
     },
     "execution_count": 36,
     "metadata": {},
     "output_type": "execute_result"
    }
   ],
   "source": [
    "cities[4]"
   ]
  },
  {
   "cell_type": "code",
   "execution_count": 38,
   "id": "d6fd1b16",
   "metadata": {},
   "outputs": [
    {
     "data": {
      "text/plain": [
       "['Karachi', 'Lahore', 'Quetta', 'Multan', 'Peshawar', 'Muree']"
      ]
     },
     "execution_count": 38,
     "metadata": {},
     "output_type": "execute_result"
    }
   ],
   "source": [
    "cities"
   ]
  },
  {
   "cell_type": "code",
   "execution_count": 40,
   "id": "4c5facba",
   "metadata": {},
   "outputs": [
    {
     "data": {
      "text/plain": [
       "['Multan', 'Peshawar', 'Muree']"
      ]
     },
     "execution_count": 40,
     "metadata": {},
     "output_type": "execute_result"
    }
   ],
   "source": [
    "cities[3:]"
   ]
  },
  {
   "cell_type": "code",
   "execution_count": 41,
   "id": "20d9759a",
   "metadata": {},
   "outputs": [],
   "source": [
    "string = 'This is a string'"
   ]
  },
  {
   "cell_type": "code",
   "execution_count": 42,
   "id": "d72f392f",
   "metadata": {},
   "outputs": [
    {
     "data": {
      "text/plain": [
       "'This'"
      ]
     },
     "execution_count": 42,
     "metadata": {},
     "output_type": "execute_result"
    }
   ],
   "source": [
    "string[0:4]"
   ]
  },
  {
   "cell_type": "code",
   "execution_count": 43,
   "id": "a0caf60b",
   "metadata": {},
   "outputs": [
    {
     "data": {
      "text/plain": [
       "['Karachi', 'Lahore', 'Quetta', 'Multan', 'Peshawar', 'Muree']"
      ]
     },
     "execution_count": 43,
     "metadata": {},
     "output_type": "execute_result"
    }
   ],
   "source": [
    "cities[:]"
   ]
  },
  {
   "cell_type": "code",
   "execution_count": 47,
   "id": "0fe25b8c",
   "metadata": {},
   "outputs": [
    {
     "data": {
      "text/plain": [
       "['Lahore', 'Multan', 'Muree']"
      ]
     },
     "execution_count": 47,
     "metadata": {},
     "output_type": "execute_result"
    }
   ],
   "source": [
    "cities[1::2]\n",
    "#cities[start:end+1:step]"
   ]
  },
  {
   "cell_type": "code",
   "execution_count": 52,
   "id": "e9f55906",
   "metadata": {},
   "outputs": [],
   "source": [
    "cities = ['Karachi', 'Lahore', 'Quetta', 'Multan', 'Peshawar', 'Muree']\n",
    "#           -6          -5        -4        -3        -2         -1\n",
    "# Backward Indexing"
   ]
  },
  {
   "cell_type": "code",
   "execution_count": 63,
   "id": "1a441ccd",
   "metadata": {},
   "outputs": [
    {
     "data": {
      "text/plain": [
       "['Multan', 'Peshawar', 'Muree']"
      ]
     },
     "execution_count": 63,
     "metadata": {},
     "output_type": "execute_result"
    }
   ],
   "source": [
    "cities[-10:]"
   ]
  },
  {
   "cell_type": "code",
   "execution_count": 56,
   "id": "2d07445b",
   "metadata": {},
   "outputs": [
    {
     "data": {
      "text/plain": [
       "'Muree'"
      ]
     },
     "execution_count": 56,
     "metadata": {},
     "output_type": "execute_result"
    }
   ],
   "source": [
    "cities[-1]"
   ]
  },
  {
   "cell_type": "code",
   "execution_count": 54,
   "id": "b09d5d17",
   "metadata": {},
   "outputs": [
    {
     "data": {
      "text/plain": [
       "'Quetta'"
      ]
     },
     "execution_count": 54,
     "metadata": {},
     "output_type": "execute_result"
    }
   ],
   "source": [
    "cities[-4]"
   ]
  },
  {
   "cell_type": "markdown",
   "id": "518fcada",
   "metadata": {},
   "source": [
    "# List Methods"
   ]
  },
  {
   "cell_type": "code",
   "execution_count": 66,
   "id": "17e8b673",
   "metadata": {},
   "outputs": [
    {
     "data": {
      "text/plain": [
       "['Karachi', 'Lahore', 'Quetta', 'Multan', 'Peshawar', 'Muree']"
      ]
     },
     "execution_count": 66,
     "metadata": {},
     "output_type": "execute_result"
    }
   ],
   "source": [
    "cities"
   ]
  },
  {
   "cell_type": "markdown",
   "id": "5ee384e2",
   "metadata": {},
   "source": [
    "# List Methods"
   ]
  },
  {
   "cell_type": "code",
   "execution_count": 68,
   "id": "28dd3b38",
   "metadata": {},
   "outputs": [],
   "source": [
    "cities.append('Thatta')"
   ]
  },
  {
   "cell_type": "code",
   "execution_count": 70,
   "id": "487eac47",
   "metadata": {},
   "outputs": [],
   "source": [
    "cities.insert(1,'Dadu')"
   ]
  },
  {
   "cell_type": "code",
   "execution_count": 72,
   "id": "b2c988df",
   "metadata": {},
   "outputs": [],
   "source": [
    "fruits = ['apple', 'mango', 'banana']"
   ]
  },
  {
   "cell_type": "code",
   "execution_count": 76,
   "id": "f974c27e",
   "metadata": {},
   "outputs": [
    {
     "data": {
      "text/plain": [
       "['apple', 'mango', 'peach', 'banana']"
      ]
     },
     "execution_count": 76,
     "metadata": {},
     "output_type": "execute_result"
    }
   ],
   "source": [
    "fruits"
   ]
  },
  {
   "cell_type": "code",
   "execution_count": 77,
   "id": "a93e7d3f",
   "metadata": {},
   "outputs": [],
   "source": [
    "fruits.insert(2, 'orange')"
   ]
  },
  {
   "cell_type": "code",
   "execution_count": 78,
   "id": "89595058",
   "metadata": {},
   "outputs": [
    {
     "data": {
      "text/plain": [
       "['apple', 'mango', 'orange', 'peach', 'banana']"
      ]
     },
     "execution_count": 78,
     "metadata": {},
     "output_type": "execute_result"
    }
   ],
   "source": [
    "fruits"
   ]
  },
  {
   "cell_type": "code",
   "execution_count": 79,
   "id": "cb374cab",
   "metadata": {},
   "outputs": [],
   "source": [
    "fruits.extend(['coconut', 'cherry', 'grapes'])"
   ]
  },
  {
   "cell_type": "code",
   "execution_count": 81,
   "id": "5eaf5fd7",
   "metadata": {},
   "outputs": [],
   "source": [
    "batters = ['Virat', 'Gayle', 'Joe Root']"
   ]
  },
  {
   "cell_type": "code",
   "execution_count": 82,
   "id": "20f7f41f",
   "metadata": {},
   "outputs": [],
   "source": [
    "additional_batter = ['Afridi', 'Rohit', 'Smith']\n",
    "batters.extend(additional_batter)"
   ]
  },
  {
   "cell_type": "code",
   "execution_count": 83,
   "id": "5bb9d08c",
   "metadata": {},
   "outputs": [
    {
     "data": {
      "text/plain": [
       "['Virat', 'Gayle', 'Joe Root', 'Afridi', 'Rohit', 'Smith']"
      ]
     },
     "execution_count": 83,
     "metadata": {},
     "output_type": "execute_result"
    }
   ],
   "source": [
    "batters"
   ]
  },
  {
   "cell_type": "code",
   "execution_count": 84,
   "id": "45378465",
   "metadata": {},
   "outputs": [
    {
     "data": {
      "text/plain": [
       "['Virat', 'Gayle', 'Joe Root', 'Afridi', 'Rohit', 'Smith']"
      ]
     },
     "execution_count": 84,
     "metadata": {},
     "output_type": "execute_result"
    }
   ],
   "source": [
    "batters"
   ]
  },
  {
   "cell_type": "code",
   "execution_count": 92,
   "id": "8727f9fb",
   "metadata": {},
   "outputs": [],
   "source": [
    "bowlers = ['starc', 'asif']\n",
    "batters[2:4] = bowlers"
   ]
  },
  {
   "cell_type": "code",
   "execution_count": 124,
   "id": "76402a5b",
   "metadata": {},
   "outputs": [],
   "source": [
    "batters = ['Virat', 'Gayle', 'Joe Root', 'Afridi', 'Rohit', 'Smith']"
   ]
  },
  {
   "cell_type": "code",
   "execution_count": 125,
   "id": "1b47c098",
   "metadata": {},
   "outputs": [],
   "source": [
    "batters[2] = bowlers"
   ]
  },
  {
   "cell_type": "code",
   "execution_count": 126,
   "id": "55d7eb7a",
   "metadata": {},
   "outputs": [
    {
     "data": {
      "text/plain": [
       "['Virat', 'Gayle', ['starc', 'asif'], 'Afridi', 'Rohit', 'Smith']"
      ]
     },
     "execution_count": 126,
     "metadata": {},
     "output_type": "execute_result"
    }
   ],
   "source": [
    "batters"
   ]
  },
  {
   "cell_type": "code",
   "execution_count": 122,
   "id": "00b1b558",
   "metadata": {},
   "outputs": [],
   "source": [
    "batters[2:2] = bowlers"
   ]
  },
  {
   "cell_type": "code",
   "execution_count": null,
   "id": "7e326d5a",
   "metadata": {},
   "outputs": [],
   "source": []
  },
  {
   "cell_type": "code",
   "execution_count": 123,
   "id": "fa0bd600",
   "metadata": {},
   "outputs": [
    {
     "data": {
      "text/plain": [
       "['Virat', 'Gayle', 'starc', 'asif', 'Joe Root', 'Afridi', 'Rohit', 'Smith']"
      ]
     },
     "execution_count": 123,
     "metadata": {},
     "output_type": "execute_result"
    }
   ],
   "source": [
    "batters"
   ]
  },
  {
   "cell_type": "code",
   "execution_count": 119,
   "id": "b76f1598",
   "metadata": {},
   "outputs": [],
   "source": [
    "batters.insert(2,bowlers)"
   ]
  },
  {
   "cell_type": "code",
   "execution_count": 120,
   "id": "1e8f6fe6",
   "metadata": {},
   "outputs": [
    {
     "data": {
      "text/plain": [
       "['Virat', 'Gayle', ['starc', 'asif'], 'Joe Root', 'Afridi', 'Rohit', 'Smith']"
      ]
     },
     "execution_count": 120,
     "metadata": {},
     "output_type": "execute_result"
    }
   ],
   "source": [
    "batters"
   ]
  },
  {
   "cell_type": "code",
   "execution_count": 127,
   "id": "a485c3ea",
   "metadata": {},
   "outputs": [
    {
     "data": {
      "text/plain": [
       "['starc', 'asif']"
      ]
     },
     "execution_count": 127,
     "metadata": {},
     "output_type": "execute_result"
    }
   ],
   "source": [
    "bowlers"
   ]
  },
  {
   "cell_type": "code",
   "execution_count": 128,
   "id": "ecc70648",
   "metadata": {},
   "outputs": [],
   "source": [
    "bowlers.insert(1, 'amir')"
   ]
  },
  {
   "cell_type": "code",
   "execution_count": 129,
   "id": "c186254c",
   "metadata": {},
   "outputs": [
    {
     "data": {
      "text/plain": [
       "['starc', 'amir', 'asif']"
      ]
     },
     "execution_count": 129,
     "metadata": {},
     "output_type": "execute_result"
    }
   ],
   "source": [
    "bowlers"
   ]
  },
  {
   "cell_type": "code",
   "execution_count": 130,
   "id": "8c747505",
   "metadata": {},
   "outputs": [],
   "source": [
    "bowlers[2] = 'cummins'"
   ]
  },
  {
   "cell_type": "code",
   "execution_count": 132,
   "id": "e4d1f05e",
   "metadata": {},
   "outputs": [],
   "source": [
    "bowlers[2:2] = 'asif'"
   ]
  },
  {
   "cell_type": "code",
   "execution_count": 133,
   "id": "87dedef5",
   "metadata": {},
   "outputs": [
    {
     "data": {
      "text/plain": [
       "['starc', 'amir', 'a', 's', 'i', 'f', 'cummins']"
      ]
     },
     "execution_count": 133,
     "metadata": {},
     "output_type": "execute_result"
    }
   ],
   "source": [
    "bowlers"
   ]
  },
  {
   "cell_type": "code",
   "execution_count": 134,
   "id": "9a05f760",
   "metadata": {},
   "outputs": [],
   "source": [
    "bowlers = ['starc', 'asif']\n"
   ]
  },
  {
   "cell_type": "code",
   "execution_count": 135,
   "id": "a10755cf",
   "metadata": {},
   "outputs": [
    {
     "data": {
      "text/plain": [
       "['starc', 'asif']"
      ]
     },
     "execution_count": 135,
     "metadata": {},
     "output_type": "execute_result"
    }
   ],
   "source": [
    "bowlers"
   ]
  },
  {
   "cell_type": "code",
   "execution_count": 136,
   "id": "4dbbaef3",
   "metadata": {},
   "outputs": [],
   "source": [
    "bowlers[1:1] = ['amir']"
   ]
  },
  {
   "cell_type": "code",
   "execution_count": 138,
   "id": "53fd3fdf",
   "metadata": {},
   "outputs": [],
   "source": [
    "bowlers[2] = 'cummins'"
   ]
  },
  {
   "cell_type": "code",
   "execution_count": 139,
   "id": "898207d0",
   "metadata": {},
   "outputs": [
    {
     "data": {
      "text/plain": [
       "['starc', 'amir', 'cummins']"
      ]
     },
     "execution_count": 139,
     "metadata": {},
     "output_type": "execute_result"
    }
   ],
   "source": [
    "bowlers"
   ]
  },
  {
   "cell_type": "code",
   "execution_count": 140,
   "id": "4971f388",
   "metadata": {},
   "outputs": [
    {
     "data": {
      "text/plain": [
       "['Virat',\n",
       " 'Gayle',\n",
       " ['starc', 'amir', 'a', 's', 'i', 'f', 'cummins'],\n",
       " 'Afridi',\n",
       " 'Rohit',\n",
       " 'Smith']"
      ]
     },
     "execution_count": 140,
     "metadata": {},
     "output_type": "execute_result"
    }
   ],
   "source": [
    "batters"
   ]
  },
  {
   "cell_type": "code",
   "execution_count": 141,
   "id": "360dc751",
   "metadata": {},
   "outputs": [],
   "source": [
    "batters = ['Virat', 'Gayle', 'Joe Root']"
   ]
  },
  {
   "cell_type": "code",
   "execution_count": 142,
   "id": "7f586d6f",
   "metadata": {},
   "outputs": [
    {
     "data": {
      "text/plain": [
       "['starc', 'amir', 'cummins']"
      ]
     },
     "execution_count": 142,
     "metadata": {},
     "output_type": "execute_result"
    }
   ],
   "source": [
    "bowlers"
   ]
  },
  {
   "cell_type": "code",
   "execution_count": 143,
   "id": "f9fb7922",
   "metadata": {},
   "outputs": [
    {
     "data": {
      "text/plain": [
       "['Virat', 'Gayle', 'Joe Root', 'starc', 'amir', 'cummins']"
      ]
     },
     "execution_count": 143,
     "metadata": {},
     "output_type": "execute_result"
    }
   ],
   "source": [
    "batters + bowlers"
   ]
  },
  {
   "cell_type": "code",
   "execution_count": null,
   "id": "c3c02bd1",
   "metadata": {},
   "outputs": [],
   "source": []
  }
 ],
 "metadata": {
  "kernelspec": {
   "display_name": "Python 3 (ipykernel)",
   "language": "python",
   "name": "python3"
  },
  "language_info": {
   "codemirror_mode": {
    "name": "ipython",
    "version": 3
   },
   "file_extension": ".py",
   "mimetype": "text/x-python",
   "name": "python",
   "nbconvert_exporter": "python",
   "pygments_lexer": "ipython3",
   "version": "3.11.5"
  }
 },
 "nbformat": 4,
 "nbformat_minor": 5
}
