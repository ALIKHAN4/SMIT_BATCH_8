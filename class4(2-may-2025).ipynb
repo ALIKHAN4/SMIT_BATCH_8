{
 "cells": [
  {
   "cell_type": "markdown",
   "id": "9d170135",
   "metadata": {},
   "source": [
    "# Type casting"
   ]
  },
  {
   "cell_type": "code",
   "execution_count": 1,
   "id": "37103066",
   "metadata": {},
   "outputs": [],
   "source": [
    "number = '2'"
   ]
  },
  {
   "cell_type": "code",
   "execution_count": 3,
   "id": "bbc474d9",
   "metadata": {},
   "outputs": [],
   "source": [
    "int_number = int(number)"
   ]
  },
  {
   "cell_type": "code",
   "execution_count": 4,
   "id": "9d21fdc1",
   "metadata": {},
   "outputs": [
    {
     "name": "stdout",
     "output_type": "stream",
     "text": [
      "<class 'int'>\n"
     ]
    }
   ],
   "source": [
    "print(type(int_number))"
   ]
  },
  {
   "cell_type": "code",
   "execution_count": 7,
   "id": "6c1088d1",
   "metadata": {},
   "outputs": [],
   "source": [
    "value = '123.2'"
   ]
  },
  {
   "cell_type": "code",
   "execution_count": 8,
   "id": "1eea71b2",
   "metadata": {},
   "outputs": [],
   "source": [
    "float_number = float(value)"
   ]
  },
  {
   "cell_type": "code",
   "execution_count": 9,
   "id": "fa96624e",
   "metadata": {},
   "outputs": [
    {
     "name": "stdout",
     "output_type": "stream",
     "text": [
      "<class 'float'>\n"
     ]
    }
   ],
   "source": [
    "print(type(float_number))"
   ]
  },
  {
   "cell_type": "code",
   "execution_count": 11,
   "id": "25e21cde",
   "metadata": {},
   "outputs": [
    {
     "data": {
      "text/plain": [
       "'123.2'"
      ]
     },
     "execution_count": 11,
     "metadata": {},
     "output_type": "execute_result"
    }
   ],
   "source": [
    "value"
   ]
  },
  {
   "cell_type": "code",
   "execution_count": 12,
   "id": "3866de8a",
   "metadata": {},
   "outputs": [
    {
     "ename": "ValueError",
     "evalue": "invalid literal for int() with base 10: '123.2'",
     "output_type": "error",
     "traceback": [
      "\u001b[1;31m---------------------------------------------------------------------------\u001b[0m",
      "\u001b[1;31mValueError\u001b[0m                                Traceback (most recent call last)",
      "\u001b[1;32m~\\AppData\\Local\\Temp\\ipykernel_11560\\2826653645.py\u001b[0m in \u001b[0;36m<module>\u001b[1;34m\u001b[0m\n\u001b[1;32m----> 1\u001b[1;33m \u001b[0mint\u001b[0m\u001b[1;33m(\u001b[0m\u001b[0mvalue\u001b[0m\u001b[1;33m)\u001b[0m\u001b[1;33m\u001b[0m\u001b[1;33m\u001b[0m\u001b[0m\n\u001b[0m",
      "\u001b[1;31mValueError\u001b[0m: invalid literal for int() with base 10: '123.2'"
     ]
    }
   ],
   "source": [
    "int(value)"
   ]
  },
  {
   "cell_type": "code",
   "execution_count": 15,
   "id": "d1916f71",
   "metadata": {},
   "outputs": [],
   "source": [
    "int_no = int(float_number)"
   ]
  },
  {
   "cell_type": "code",
   "execution_count": 16,
   "id": "9161dc0b",
   "metadata": {},
   "outputs": [
    {
     "ename": "SyntaxError",
     "evalue": "invalid syntax (1111971844.py, line 1)",
     "output_type": "error",
     "traceback": [
      "\u001b[1;36m  File \u001b[1;32m\"C:\\Users\\SMIT\\AppData\\Local\\Temp\\ipykernel_11560\\1111971844.py\"\u001b[1;36m, line \u001b[1;32m1\u001b[0m\n\u001b[1;33m    a value = 'this'\u001b[0m\n\u001b[1;37m      ^\u001b[0m\n\u001b[1;31mSyntaxError\u001b[0m\u001b[1;31m:\u001b[0m invalid syntax\n"
     ]
    }
   ],
   "source": [
    "a value = 'this'"
   ]
  },
  {
   "cell_type": "code",
   "execution_count": 17,
   "id": "37920897",
   "metadata": {},
   "outputs": [
    {
     "ename": "SyntaxError",
     "evalue": "invalid syntax (575629759.py, line 1)",
     "output_type": "error",
     "traceback": [
      "\u001b[1;36m  File \u001b[1;32m\"C:\\Users\\SMIT\\AppData\\Local\\Temp\\ipykernel_11560\\575629759.py\"\u001b[1;36m, line \u001b[1;32m1\u001b[0m\n\u001b[1;33m    12value = 'ali khan'\u001b[0m\n\u001b[1;37m      ^\u001b[0m\n\u001b[1;31mSyntaxError\u001b[0m\u001b[1;31m:\u001b[0m invalid syntax\n"
     ]
    }
   ],
   "source": [
    "12value = 'ali khan'"
   ]
  },
  {
   "cell_type": "markdown",
   "id": "8a22f46a",
   "metadata": {},
   "source": [
    "# Rules for naming variable\n",
    "- They can not be reserved words(print, len)\n",
    "- There can not be any space between the variable name\n",
    "- The variable can not be started with a number or itself a number\n",
    "- There can not be any symbol between the variable or itself a symbol except \n",
    "    underscore ( _ )"
   ]
  },
  {
   "cell_type": "code",
   "execution_count": 18,
   "id": "edb12378",
   "metadata": {},
   "outputs": [
    {
     "ename": "SyntaxError",
     "evalue": "cannot assign to literal (1214639198.py, line 1)",
     "output_type": "error",
     "traceback": [
      "\u001b[1;36m  File \u001b[1;32m\"C:\\Users\\SMIT\\AppData\\Local\\Temp\\ipykernel_11560\\1214639198.py\"\u001b[1;36m, line \u001b[1;32m1\u001b[0m\n\u001b[1;33m    123 = 'ali khan '\u001b[0m\n\u001b[1;37m    ^\u001b[0m\n\u001b[1;31mSyntaxError\u001b[0m\u001b[1;31m:\u001b[0m cannot assign to literal\n"
     ]
    }
   ],
   "source": [
    "123 = 'ali khan '"
   ]
  },
  {
   "cell_type": "markdown",
   "id": "e7ba0084",
   "metadata": {},
   "source": [
    "## String\n",
    "- String are immutable(no change in the original value)"
   ]
  },
  {
   "cell_type": "code",
   "execution_count": 26,
   "id": "26a3d5cf",
   "metadata": {},
   "outputs": [
    {
     "data": {
      "text/plain": [
       "'ali khan'"
      ]
     },
     "execution_count": 26,
     "metadata": {},
     "output_type": "execute_result"
    }
   ],
   "source": [
    "name = 'ali khan'\n",
    "name"
   ]
  },
  {
   "cell_type": "code",
   "execution_count": 25,
   "id": "49f16ab6",
   "metadata": {},
   "outputs": [
    {
     "data": {
      "text/plain": [
       "str"
      ]
     },
     "execution_count": 25,
     "metadata": {},
     "output_type": "execute_result"
    }
   ],
   "source": [
    "type(name)"
   ]
  },
  {
   "cell_type": "code",
   "execution_count": 27,
   "id": "cc5c2aaf",
   "metadata": {},
   "outputs": [
    {
     "data": {
      "text/plain": [
       "'Ali khan'"
      ]
     },
     "execution_count": 27,
     "metadata": {},
     "output_type": "execute_result"
    }
   ],
   "source": [
    "name.capitalize()"
   ]
  },
  {
   "cell_type": "code",
   "execution_count": 28,
   "id": "fb8e2700",
   "metadata": {},
   "outputs": [],
   "source": [
    "text = \"hello, and welcome to my world.\""
   ]
  },
  {
   "cell_type": "code",
   "execution_count": 29,
   "id": "f1fedfdc",
   "metadata": {},
   "outputs": [
    {
     "data": {
      "text/plain": [
       "'Hello, and welcome to my world.'"
      ]
     },
     "execution_count": 29,
     "metadata": {},
     "output_type": "execute_result"
    }
   ],
   "source": [
    "text.capitalize()"
   ]
  },
  {
   "cell_type": "code",
   "execution_count": 31,
   "id": "f6ad2586",
   "metadata": {},
   "outputs": [],
   "source": [
    "new_text = text.upper()"
   ]
  },
  {
   "cell_type": "code",
   "execution_count": 33,
   "id": "0b15038c",
   "metadata": {},
   "outputs": [
    {
     "data": {
      "text/plain": [
       "'HELLO, AND WELCOME TO MY WORLD.'"
      ]
     },
     "execution_count": 33,
     "metadata": {},
     "output_type": "execute_result"
    }
   ],
   "source": [
    "new_text"
   ]
  },
  {
   "cell_type": "code",
   "execution_count": 34,
   "id": "33d18de6",
   "metadata": {},
   "outputs": [
    {
     "data": {
      "text/plain": [
       "'hello, and welcome to my world.'"
      ]
     },
     "execution_count": 34,
     "metadata": {},
     "output_type": "execute_result"
    }
   ],
   "source": [
    "new_text.lower()"
   ]
  },
  {
   "cell_type": "code",
   "execution_count": 37,
   "id": "092f2870",
   "metadata": {},
   "outputs": [
    {
     "data": {
      "text/plain": [
       "'Hello, And Welcome To My World.'"
      ]
     },
     "execution_count": 37,
     "metadata": {},
     "output_type": "execute_result"
    }
   ],
   "source": [
    "text.title()"
   ]
  },
  {
   "cell_type": "code",
   "execution_count": 38,
   "id": "99e24bb8",
   "metadata": {},
   "outputs": [
    {
     "data": {
      "text/plain": [
       "4"
      ]
     },
     "execution_count": 38,
     "metadata": {},
     "output_type": "execute_result"
    }
   ],
   "source": [
    "text.count('o')"
   ]
  },
  {
   "cell_type": "code",
   "execution_count": 41,
   "id": "d80d1780",
   "metadata": {},
   "outputs": [
    {
     "data": {
      "text/plain": [
       "'hello, and welcome to my world.'"
      ]
     },
     "execution_count": 41,
     "metadata": {},
     "output_type": "execute_result"
    }
   ],
   "source": [
    "text"
   ]
  },
  {
   "cell_type": "code",
   "execution_count": 42,
   "id": "d807b619",
   "metadata": {},
   "outputs": [
    {
     "name": "stdout",
     "output_type": "stream",
     "text": [
      "1883781458960\n"
     ]
    }
   ],
   "source": [
    "print(id(text))"
   ]
  },
  {
   "cell_type": "code",
   "execution_count": 43,
   "id": "7486a888",
   "metadata": {},
   "outputs": [
    {
     "name": "stdout",
     "output_type": "stream",
     "text": [
      "1883795159680\n"
     ]
    }
   ],
   "source": [
    "print(id(new_text))"
   ]
  },
  {
   "cell_type": "code",
   "execution_count": 44,
   "id": "c020ea27",
   "metadata": {},
   "outputs": [
    {
     "data": {
      "text/plain": [
       "1"
      ]
     },
     "execution_count": 44,
     "metadata": {},
     "output_type": "execute_result"
    }
   ],
   "source": [
    "text.count('hello')"
   ]
  },
  {
   "cell_type": "code",
   "execution_count": 45,
   "id": "87798d9b",
   "metadata": {},
   "outputs": [
    {
     "data": {
      "text/plain": [
       "'hello, and welcome to my world.'"
      ]
     },
     "execution_count": 45,
     "metadata": {},
     "output_type": "execute_result"
    }
   ],
   "source": [
    "text"
   ]
  },
  {
   "cell_type": "code",
   "execution_count": 46,
   "id": "f703e323",
   "metadata": {},
   "outputs": [
    {
     "data": {
      "text/plain": [
       "1"
      ]
     },
     "execution_count": 46,
     "metadata": {},
     "output_type": "execute_result"
    }
   ],
   "source": [
    "text.count('and welcome')"
   ]
  },
  {
   "cell_type": "code",
   "execution_count": 47,
   "id": "154e893f",
   "metadata": {},
   "outputs": [
    {
     "data": {
      "text/plain": [
       "31"
      ]
     },
     "execution_count": 47,
     "metadata": {},
     "output_type": "execute_result"
    }
   ],
   "source": [
    "len(text)"
   ]
  },
  {
   "cell_type": "code",
   "execution_count": 48,
   "id": "220ad883",
   "metadata": {},
   "outputs": [
    {
     "data": {
      "text/plain": [
       "True"
      ]
     },
     "execution_count": 48,
     "metadata": {},
     "output_type": "execute_result"
    }
   ],
   "source": [
    "text.startswith('h')"
   ]
  },
  {
   "cell_type": "code",
   "execution_count": 49,
   "id": "b5aa380a",
   "metadata": {},
   "outputs": [
    {
     "data": {
      "text/plain": [
       "'hello, and welcome to my world.'"
      ]
     },
     "execution_count": 49,
     "metadata": {},
     "output_type": "execute_result"
    }
   ],
   "source": [
    "text"
   ]
  },
  {
   "cell_type": "code",
   "execution_count": 50,
   "id": "8f855f7e",
   "metadata": {},
   "outputs": [
    {
     "data": {
      "text/plain": [
       "True"
      ]
     },
     "execution_count": 50,
     "metadata": {},
     "output_type": "execute_result"
    }
   ],
   "source": [
    "text.startswith('h')"
   ]
  },
  {
   "cell_type": "code",
   "execution_count": 51,
   "id": "8b809df0",
   "metadata": {},
   "outputs": [
    {
     "data": {
      "text/plain": [
       "True"
      ]
     },
     "execution_count": 51,
     "metadata": {},
     "output_type": "execute_result"
    }
   ],
   "source": [
    "text.startswith('hello')"
   ]
  },
  {
   "cell_type": "code",
   "execution_count": 55,
   "id": "fa5fc72d",
   "metadata": {},
   "outputs": [
    {
     "data": {
      "text/plain": [
       "True"
      ]
     },
     "execution_count": 55,
     "metadata": {},
     "output_type": "execute_result"
    }
   ],
   "source": [
    "text.upper().startswith('H')"
   ]
  },
  {
   "cell_type": "code",
   "execution_count": 57,
   "id": "f4ed3ba4",
   "metadata": {},
   "outputs": [
    {
     "data": {
      "text/plain": [
       "False"
      ]
     },
     "execution_count": 57,
     "metadata": {},
     "output_type": "execute_result"
    }
   ],
   "source": [
    "text.startswith('H')"
   ]
  },
  {
   "cell_type": "code",
   "execution_count": 60,
   "id": "a5b3d035",
   "metadata": {},
   "outputs": [
    {
     "data": {
      "text/plain": [
       "2"
      ]
     },
     "execution_count": 60,
     "metadata": {},
     "output_type": "execute_result"
    }
   ],
   "source": [
    "text.count('m')"
   ]
  },
  {
   "cell_type": "code",
   "execution_count": 68,
   "id": "e865cccd",
   "metadata": {},
   "outputs": [
    {
     "data": {
      "text/plain": [
       "0"
      ]
     },
     "execution_count": 68,
     "metadata": {},
     "output_type": "execute_result"
    }
   ],
   "source": [
    "text.upper().count('m')"
   ]
  },
  {
   "cell_type": "code",
   "execution_count": 75,
   "id": "faa3c57b",
   "metadata": {},
   "outputs": [],
   "source": [
    "title_text = text.title()"
   ]
  },
  {
   "cell_type": "code",
   "execution_count": 77,
   "id": "51b57fd4",
   "metadata": {},
   "outputs": [
    {
     "data": {
      "text/plain": [
       "2"
      ]
     },
     "execution_count": 77,
     "metadata": {},
     "output_type": "execute_result"
    }
   ],
   "source": [
    "title_text.count('m') + title_text.count('M')"
   ]
  },
  {
   "cell_type": "code",
   "execution_count": 80,
   "id": "6468869c",
   "metadata": {},
   "outputs": [
    {
     "data": {
      "text/plain": [
       "True"
      ]
     },
     "execution_count": 80,
     "metadata": {},
     "output_type": "execute_result"
    }
   ],
   "source": [
    "text.endswith('d.')"
   ]
  },
  {
   "cell_type": "code",
   "execution_count": 81,
   "id": "6bf7847d",
   "metadata": {},
   "outputs": [
    {
     "data": {
      "text/plain": [
       "True"
      ]
     },
     "execution_count": 81,
     "metadata": {},
     "output_type": "execute_result"
    }
   ],
   "source": [
    "text.islower()"
   ]
  },
  {
   "cell_type": "code",
   "execution_count": 82,
   "id": "99ec80b5",
   "metadata": {},
   "outputs": [
    {
     "data": {
      "text/plain": [
       "False"
      ]
     },
     "execution_count": 82,
     "metadata": {},
     "output_type": "execute_result"
    }
   ],
   "source": [
    "text.isupper()"
   ]
  },
  {
   "cell_type": "code",
   "execution_count": 83,
   "id": "7c0a1087",
   "metadata": {},
   "outputs": [
    {
     "data": {
      "text/plain": [
       "False"
      ]
     },
     "execution_count": 83,
     "metadata": {},
     "output_type": "execute_result"
    }
   ],
   "source": [
    "text.istitle()"
   ]
  },
  {
   "cell_type": "code",
   "execution_count": 84,
   "id": "74ebfbcd",
   "metadata": {},
   "outputs": [
    {
     "data": {
      "text/plain": [
       "'hello, and welcome to my world.'"
      ]
     },
     "execution_count": 84,
     "metadata": {},
     "output_type": "execute_result"
    }
   ],
   "source": [
    "text"
   ]
  },
  {
   "cell_type": "code",
   "execution_count": 85,
   "id": "e92ca78f",
   "metadata": {},
   "outputs": [],
   "source": [
    "new_var  = '    this is sentence   '"
   ]
  },
  {
   "cell_type": "code",
   "execution_count": 86,
   "id": "fa2bc60a",
   "metadata": {},
   "outputs": [
    {
     "data": {
      "text/plain": [
       "'    this is sentence   '"
      ]
     },
     "execution_count": 86,
     "metadata": {},
     "output_type": "execute_result"
    }
   ],
   "source": [
    "new_var"
   ]
  },
  {
   "cell_type": "code",
   "execution_count": 87,
   "id": "f2739c20",
   "metadata": {},
   "outputs": [
    {
     "data": {
      "text/plain": [
       "'this is sentence'"
      ]
     },
     "execution_count": 87,
     "metadata": {},
     "output_type": "execute_result"
    }
   ],
   "source": [
    "new_var.strip()"
   ]
  },
  {
   "cell_type": "code",
   "execution_count": 88,
   "id": "9b655725",
   "metadata": {},
   "outputs": [
    {
     "data": {
      "text/plain": [
       "'    this is sentence   '"
      ]
     },
     "execution_count": 88,
     "metadata": {},
     "output_type": "execute_result"
    }
   ],
   "source": [
    "new_var"
   ]
  },
  {
   "cell_type": "code",
   "execution_count": 89,
   "id": "bd12acfb",
   "metadata": {},
   "outputs": [
    {
     "data": {
      "text/plain": [
       "'this is sentence   '"
      ]
     },
     "execution_count": 89,
     "metadata": {},
     "output_type": "execute_result"
    }
   ],
   "source": [
    "new_var.lstrip()"
   ]
  },
  {
   "cell_type": "code",
   "execution_count": 90,
   "id": "68f961bd",
   "metadata": {},
   "outputs": [
    {
     "data": {
      "text/plain": [
       "'    this is sentence'"
      ]
     },
     "execution_count": 90,
     "metadata": {},
     "output_type": "execute_result"
    }
   ],
   "source": [
    "new_var.rstrip()"
   ]
  },
  {
   "cell_type": "code",
   "execution_count": 94,
   "id": "b2f5c05c",
   "metadata": {},
   "outputs": [
    {
     "data": {
      "text/plain": [
       "'hey, and welcome to my place.'"
      ]
     },
     "execution_count": 94,
     "metadata": {},
     "output_type": "execute_result"
    }
   ],
   "source": [
    "text.replace('world', 'place').replace('hello', 'hey')"
   ]
  },
  {
   "cell_type": "code",
   "execution_count": null,
   "id": "8985fa6e",
   "metadata": {},
   "outputs": [],
   "source": []
  },
  {
   "cell_type": "code",
   "execution_count": null,
   "id": "173498be",
   "metadata": {},
   "outputs": [],
   "source": []
  },
  {
   "cell_type": "code",
   "execution_count": null,
   "id": "8858eb11",
   "metadata": {},
   "outputs": [],
   "source": []
  }
 ],
 "metadata": {
  "kernelspec": {
   "display_name": "Python 3 (ipykernel)",
   "language": "python",
   "name": "python3"
  },
  "language_info": {
   "codemirror_mode": {
    "name": "ipython",
    "version": 3
   },
   "file_extension": ".py",
   "mimetype": "text/x-python",
   "name": "python",
   "nbconvert_exporter": "python",
   "pygments_lexer": "ipython3",
   "version": "3.9.13"
  }
 },
 "nbformat": 4,
 "nbformat_minor": 5
}
