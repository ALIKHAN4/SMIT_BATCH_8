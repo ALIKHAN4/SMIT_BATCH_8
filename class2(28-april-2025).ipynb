{
 "cells": [
  {
   "cell_type": "code",
   "execution_count": 1,
   "id": "a469517a",
   "metadata": {},
   "outputs": [
    {
     "name": "stdout",
     "output_type": "stream",
     "text": [
      "Hello world\n"
     ]
    }
   ],
   "source": [
    "print('Hello world')"
   ]
  },
  {
   "cell_type": "code",
   "execution_count": 2,
   "id": "3b2c9216",
   "metadata": {},
   "outputs": [
    {
     "name": "stdout",
     "output_type": "stream",
     "text": [
      "123\n"
     ]
    }
   ],
   "source": [
    "print(123)"
   ]
  },
  {
   "cell_type": "code",
   "execution_count": 5,
   "id": "ce90e745",
   "metadata": {},
   "outputs": [
    {
     "name": "stdout",
     "output_type": "stream",
     "text": [
      "12.3\n"
     ]
    }
   ],
   "source": [
    "print(12.3)"
   ]
  },
  {
   "cell_type": "code",
   "execution_count": 7,
   "id": "f93f81b2",
   "metadata": {},
   "outputs": [
    {
     "name": "stdout",
     "output_type": "stream",
     "text": [
      "5\n"
     ]
    }
   ],
   "source": [
    "print(2+3)"
   ]
  },
  {
   "cell_type": "code",
   "execution_count": 10,
   "id": "be9f778d",
   "metadata": {},
   "outputs": [
    {
     "name": "stdout",
     "output_type": "stream",
     "text": [
      "ali khan\n"
     ]
    }
   ],
   "source": [
    "print(\"ali khan\")"
   ]
  },
  {
   "cell_type": "code",
   "execution_count": 11,
   "id": "aa64e994",
   "metadata": {},
   "outputs": [
    {
     "name": "stdout",
     "output_type": "stream",
     "text": [
      "Ali khan 123 12.3 True\n"
     ]
    }
   ],
   "source": [
    "print('Ali khan',123,12.3,True)"
   ]
  },
  {
   "cell_type": "code",
   "execution_count": 13,
   "id": "ef73acc6",
   "metadata": {},
   "outputs": [
    {
     "ename": "SyntaxError",
     "evalue": "invalid syntax (138592947.py, line 1)",
     "output_type": "error",
     "traceback": [
      "\u001b[1;36m  Cell \u001b[1;32mIn[13], line 1\u001b[1;36m\u001b[0m\n\u001b[1;33m    print(`ali khan`)\u001b[0m\n\u001b[1;37m          ^\u001b[0m\n\u001b[1;31mSyntaxError\u001b[0m\u001b[1;31m:\u001b[0m invalid syntax\n"
     ]
    }
   ],
   "source": [
    "print(`ali khan`)"
   ]
  },
  {
   "cell_type": "code",
   "execution_count": 15,
   "id": "acc1a53c",
   "metadata": {},
   "outputs": [
    {
     "name": "stdout",
     "output_type": "stream",
     "text": [
      "alikhan\n",
      "123\n",
      "hamza khan\n",
      "True\n"
     ]
    }
   ],
   "source": [
    "print('alikhan')\n",
    "print(123)\n",
    "print('hamza khan')\n",
    "print(True)"
   ]
  },
  {
   "cell_type": "code",
   "execution_count": 18,
   "id": "c5f7ab39",
   "metadata": {},
   "outputs": [
    {
     "name": "stdout",
     "output_type": "stream",
     "text": [
      "hello world\n"
     ]
    }
   ],
   "source": [
    "print(\"hello world\")"
   ]
  },
  {
   "cell_type": "code",
   "execution_count": 26,
   "id": "591cc06c",
   "metadata": {},
   "outputs": [
    {
     "name": "stdout",
     "output_type": "stream",
     "text": [
      "hello  23  21.2  True\n"
     ]
    }
   ],
   "source": [
    "print('hello',23,21.2,True,sep='  ')"
   ]
  },
  {
   "cell_type": "code",
   "execution_count": 27,
   "id": "c8ad15f8",
   "metadata": {},
   "outputs": [
    {
     "name": "stdout",
     "output_type": "stream",
     "text": [
      "ali khan\n",
      "123\n"
     ]
    }
   ],
   "source": [
    "print('ali khan')\n",
    "print(123)"
   ]
  },
  {
   "cell_type": "code",
   "execution_count": 2,
   "id": "fd6f6ca8",
   "metadata": {},
   "outputs": [
    {
     "name": "stdout",
     "output_type": "stream",
     "text": [
      "ali khan----waseem bhai\n"
     ]
    }
   ],
   "source": [
    "print('ali khan', end='----')\n",
    "print('waseem bhai')"
   ]
  },
  {
   "cell_type": "code",
   "execution_count": 5,
   "id": "c0e930ff",
   "metadata": {},
   "outputs": [
    {
     "name": "stdout",
     "output_type": "stream",
     "text": [
      "Hello\n",
      "12\n",
      "12.2\n",
      "True\n",
      "False\n"
     ]
    }
   ],
   "source": [
    "print('Hello', 12, 12.2, True, False, sep='\\n')"
   ]
  },
  {
   "cell_type": "code",
   "execution_count": 8,
   "id": "05479148",
   "metadata": {},
   "outputs": [
    {
     "name": "stdout",
     "output_type": "stream",
     "text": [
      "hello 123 2.2 True\n"
     ]
    }
   ],
   "source": [
    "print('hello',end=' ')\n",
    "print(123, end=' ')\n",
    "print(2.2, end=' ')\n",
    "print(True)"
   ]
  },
  {
   "cell_type": "code",
   "execution_count": 9,
   "id": "cf797b32",
   "metadata": {},
   "outputs": [
    {
     "name": "stdout",
     "output_type": "stream",
     "text": [
      "14 10 24 4.0\n"
     ]
    }
   ],
   "source": [
    "print(12+2, 12-2, 12*2, 12/3)"
   ]
  },
  {
   "cell_type": "code",
   "execution_count": 13,
   "id": "dbd606eb",
   "metadata": {},
   "outputs": [
    {
     "name": "stdout",
     "output_type": "stream",
     "text": [
      "hello\b123\n"
     ]
    }
   ],
   "source": [
    "print('hello',123, sep='\\b' )"
   ]
  },
  {
   "cell_type": "markdown",
   "id": "7d4ecb0c",
   "metadata": {},
   "source": [
    "# Python Numbers\n",
    "    - Integer (without decimal)\n",
    "    - Float (with decimal)"
   ]
  },
  {
   "cell_type": "markdown",
   "id": "5c794acc",
   "metadata": {},
   "source": [
    "12---> Integer\n",
    "12.2----> Float"
   ]
  },
  {
   "cell_type": "code",
   "execution_count": 14,
   "id": "5fc89e6f",
   "metadata": {},
   "outputs": [
    {
     "name": "stdout",
     "output_type": "stream",
     "text": [
      "4.0\n"
     ]
    }
   ],
   "source": [
    "print(12/3)"
   ]
  },
  {
   "cell_type": "code",
   "execution_count": 18,
   "id": "bfc0691a",
   "metadata": {},
   "outputs": [
    {
     "name": "stdout",
     "output_type": "stream",
     "text": [
      "7\n"
     ]
    }
   ],
   "source": [
    "print(23//3)"
   ]
  },
  {
   "cell_type": "code",
   "execution_count": 20,
   "id": "eb183785",
   "metadata": {},
   "outputs": [
    {
     "name": "stdout",
     "output_type": "stream",
     "text": [
      "1\n"
     ]
    }
   ],
   "source": [
    "print(3%2)"
   ]
  },
  {
   "cell_type": "code",
   "execution_count": 21,
   "id": "ea1f9785",
   "metadata": {},
   "outputs": [
    {
     "name": "stdout",
     "output_type": "stream",
     "text": [
      "0\n"
     ]
    }
   ],
   "source": [
    "print(12%2)"
   ]
  },
  {
   "attachments": {
    "image.png": {
     "image/png": "[encoded data removed]"
    }
   },
   "cell_type": "markdown",
   "id": "4b7e9f33",
   "metadata": {},
   "source": [
    "![image.png](attachment:image.png)"
   ]
  },
  {
   "cell_type": "code",
   "execution_count": null,
   "id": "bb4dd878",
   "metadata": {},
   "outputs": [],
   "source": []
  }
 ],
 "metadata": {
  "kernelspec": {
   "display_name": "Python 3 (ipykernel)",
   "language": "python",
   "name": "python3"
  },
  "language_info": {
   "codemirror_mode": {
    "name": "ipython",
    "version": 3
   },
   "file_extension": ".py",
   "mimetype": "text/x-python",
   "name": "python",
   "nbconvert_exporter": "python",
   "pygments_lexer": "ipython3",
   "version": "3.11.5"
  }
 },
 "nbformat": 4,
 "nbformat_minor": 5
}
