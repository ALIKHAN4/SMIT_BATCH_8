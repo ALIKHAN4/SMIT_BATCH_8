{
 "cells": [
  {
   "cell_type": "markdown",
   "id": "d68b55cc",
   "metadata": {},
   "source": [
    "# Nested if"
   ]
  },
  {
   "cell_type": "markdown",
   "id": "7a74dc90",
   "metadata": {},
   "source": [
    "Requirement:\n",
    "- Bike\n",
    "- 125\n",
    "- Honda\n",
    "- 2025\n",
    "- Red\n",
    "- New"
   ]
  },
  {
   "cell_type": "code",
   "execution_count": 9,
   "id": "88ffc966",
   "metadata": {},
   "outputs": [
    {
     "name": "stdout",
     "output_type": "stream",
     "text": [
      "Beta kia chaye? Bike\n",
      "Konsi cc chaye? 125\n",
      "Konsi company ki? Honda\n",
      "Konsa model chaye? 2025\n",
      "Acha color batao? Red\n",
      "Acha new chaye ya purani? New\n",
      "Thek hai bhae, done\n"
     ]
    }
   ],
   "source": [
    "vehicle = input('Beta kia chaye? ')\n",
    "if vehicle == 'Bike':\n",
    "    cc = input('Konsi cc chaye? ')\n",
    "    \n",
    "    if cc == '125':\n",
    "        company = input('Konsi company ki? ')\n",
    "        \n",
    "        if company == 'Honda':\n",
    "            model = input('Konsa model chaye? ')\n",
    "            \n",
    "            if model == '2025':\n",
    "                color = input('Acha color batao? ')\n",
    "                if color == 'Red':\n",
    "                    condition = input('Acha new chaye ya purani? ')\n",
    "                    \n",
    "                    if condition == 'New':\n",
    "                        print('Thek hai bhae, done')\n",
    "                    else:\n",
    "                        print('Nahi chaye')\n",
    "                    \n",
    "                else:\n",
    "                    print('Red hi chaye')\n",
    "                \n",
    "            else:\n",
    "                print('Mjhe to 25 ka chaye bhae')\n",
    "            \n",
    "        else:\n",
    "            print('Me te honda ee laysan')\n",
    "    else:\n",
    "        print('Mjhe 125 chaye')\n",
    "    \n",
    "else:\n",
    "    print('Beta kuch or mango')"
   ]
  },
  {
   "cell_type": "code",
   "execution_count": null,
   "id": "ca65ed37",
   "metadata": {},
   "outputs": [],
   "source": [
    "Bike\n",
    "125\n",
    "Honda\n",
    "2025\n",
    "Red\n",
    "New"
   ]
  },
  {
   "cell_type": "code",
   "execution_count": 10,
   "id": "a06a9ccf",
   "metadata": {},
   "outputs": [
    {
     "data": {
      "text/plain": [
       "False"
      ]
     },
     "execution_count": 10,
     "metadata": {},
     "output_type": "execute_result"
    }
   ],
   "source": [
    "(\"A\" != \"A\") \n"
   ]
  },
  {
   "cell_type": "code",
   "execution_count": 11,
   "id": "a846368d",
   "metadata": {},
   "outputs": [
    {
     "data": {
      "text/plain": [
       "False"
      ]
     },
     "execution_count": 11,
     "metadata": {},
     "output_type": "execute_result"
    }
   ],
   "source": [
    "(2 >= 3)"
   ]
  },
  {
   "cell_type": "code",
   "execution_count": null,
   "id": "ce7d4900",
   "metadata": {},
   "outputs": [],
   "source": [
    "or not (2 >= 3)"
   ]
  },
  {
   "cell_type": "code",
   "execution_count": null,
   "id": "e0501411",
   "metadata": {},
   "outputs": [],
   "source": [
    "False or not False"
   ]
  },
  {
   "cell_type": "code",
   "execution_count": 12,
   "id": "65eb88ea",
   "metadata": {},
   "outputs": [
    {
     "data": {
      "text/plain": [
       "True"
      ]
     },
     "execution_count": 12,
     "metadata": {},
     "output_type": "execute_result"
    }
   ],
   "source": [
    "not False"
   ]
  },
  {
   "cell_type": "code",
   "execution_count": 13,
   "id": "b410fe92",
   "metadata": {},
   "outputs": [
    {
     "data": {
      "text/plain": [
       "True"
      ]
     },
     "execution_count": 13,
     "metadata": {},
     "output_type": "execute_result"
    }
   ],
   "source": [
    "False or True"
   ]
  },
  {
   "cell_type": "code",
   "execution_count": 14,
   "id": "34a88e0b",
   "metadata": {},
   "outputs": [
    {
     "data": {
      "text/plain": [
       "False"
      ]
     },
     "execution_count": 14,
     "metadata": {},
     "output_type": "execute_result"
    }
   ],
   "source": [
    "not True"
   ]
  },
  {
   "cell_type": "markdown",
   "id": "9b94a788",
   "metadata": {},
   "source": [
    "# Loops\n",
    "- for\n",
    "- while"
   ]
  },
  {
   "cell_type": "code",
   "execution_count": 16,
   "id": "d06dea2b",
   "metadata": {},
   "outputs": [
    {
     "name": "stdout",
     "output_type": "stream",
     "text": [
      "This is a line\n",
      "This is a line\n",
      "This is a line\n",
      "This is a line\n",
      "This is a line\n"
     ]
    }
   ],
   "source": [
    "for variable_name in range(5):\n",
    "    print('This is a line')"
   ]
  },
  {
   "cell_type": "code",
   "execution_count": 20,
   "id": "ad289147",
   "metadata": {},
   "outputs": [
    {
     "name": "stdout",
     "output_type": "stream",
     "text": [
      "0\n",
      "1\n",
      "2\n",
      "3\n",
      "4\n",
      "5\n",
      "6\n",
      "7\n",
      "8\n",
      "9\n",
      "10\n",
      "11\n",
      "12\n",
      "13\n",
      "14\n",
      "15\n",
      "16\n",
      "17\n",
      "18\n",
      "19\n"
     ]
    }
   ],
   "source": [
    "for num in range(20):\n",
    "    print(num)"
   ]
  },
  {
   "cell_type": "code",
   "execution_count": 22,
   "id": "d52c3d44",
   "metadata": {},
   "outputs": [
    {
     "name": "stdout",
     "output_type": "stream",
     "text": [
      "2 x 1 = 2\n",
      "2 x 2 = 4\n",
      "2 x 3 = 6\n",
      "2 x 4 = 8\n",
      "2 x 5 = 10\n",
      "2 x 6 = 12\n",
      "2 x 7 = 14\n",
      "2 x 8 = 16\n",
      "2 x 9 = 18\n",
      "2 x 10 = 20\n"
     ]
    }
   ],
   "source": [
    "#  for variblae in iterable\n",
    "for num in range(1,11):\n",
    "    print(f'2 x {num} = {2*num}')"
   ]
  },
  {
   "cell_type": "code",
   "execution_count": 23,
   "id": "9482def5",
   "metadata": {},
   "outputs": [],
   "source": [
    "cities = ['karachi', 'lahore', 'quetta']"
   ]
  },
  {
   "cell_type": "code",
   "execution_count": 24,
   "id": "a9de1a4c",
   "metadata": {},
   "outputs": [
    {
     "name": "stdout",
     "output_type": "stream",
     "text": [
      "karachi\n",
      "lahore\n",
      "quetta\n"
     ]
    }
   ],
   "source": [
    "for city in cities:\n",
    "    print(city)"
   ]
  },
  {
   "cell_type": "code",
   "execution_count": 26,
   "id": "88f6bc2c",
   "metadata": {},
   "outputs": [],
   "source": [
    "data = {\n",
    "  \"name\": \"Alice\",\n",
    "  \"age\": 20,\n",
    "  \"major\": \"Computer Science\"\n",
    "}\n"
   ]
  },
  {
   "cell_type": "code",
   "execution_count": 30,
   "id": "ba5d5f0f",
   "metadata": {},
   "outputs": [
    {
     "data": {
      "text/plain": [
       "dict_items([('name', 'Alice'), ('age', 20), ('major', 'Computer Science')])"
      ]
     },
     "execution_count": 30,
     "metadata": {},
     "output_type": "execute_result"
    }
   ],
   "source": [
    "data.items()"
   ]
  },
  {
   "cell_type": "code",
   "execution_count": 37,
   "id": "10945acd",
   "metadata": {},
   "outputs": [
    {
     "name": "stdout",
     "output_type": "stream",
     "text": [
      "The key is name and the value is Alice\n",
      "The key is age and the value is 20\n",
      "The key is major and the value is Computer Science\n"
     ]
    }
   ],
   "source": [
    "for key, value in data.items():\n",
    "    print(f'The key is {key} and the value is {value}')"
   ]
  },
  {
   "cell_type": "code",
   "execution_count": 33,
   "id": "6fbef23c",
   "metadata": {},
   "outputs": [],
   "source": [
    "fruits = ('apple', 'mango', 'orange')"
   ]
  },
  {
   "cell_type": "markdown",
   "id": "98d16e23",
   "metadata": {},
   "source": [
    "## Unpacking"
   ]
  },
  {
   "cell_type": "code",
   "execution_count": 34,
   "id": "e6165557",
   "metadata": {},
   "outputs": [],
   "source": [
    "a, b, c = ('apple', 'mango', 'orange')"
   ]
  },
  {
   "cell_type": "code",
   "execution_count": 35,
   "id": "73485c8a",
   "metadata": {},
   "outputs": [
    {
     "name": "stdout",
     "output_type": "stream",
     "text": [
      "apple\n",
      "mango\n",
      "orange\n"
     ]
    }
   ],
   "source": [
    "print(a)\n",
    "print(b)\n",
    "print(c)"
   ]
  },
  {
   "cell_type": "code",
   "execution_count": 36,
   "id": "a4b7f509",
   "metadata": {},
   "outputs": [
    {
     "data": {
      "text/plain": [
       "('apple', 'mango', 'orange')"
      ]
     },
     "execution_count": 36,
     "metadata": {},
     "output_type": "execute_result"
    }
   ],
   "source": [
    "fruits"
   ]
  },
  {
   "cell_type": "code",
   "execution_count": 39,
   "id": "6e113631",
   "metadata": {},
   "outputs": [
    {
     "name": "stdout",
     "output_type": "stream",
     "text": [
      "I dont want to show anything\n",
      "I dont want to show anything\n",
      "I dont want to show anything\n"
     ]
    }
   ],
   "source": [
    "for key, value in data.items():\n",
    "    print('I dont want to show anything')"
   ]
  },
  {
   "cell_type": "code",
   "execution_count": null,
   "id": "7d34ec04",
   "metadata": {},
   "outputs": [],
   "source": []
  },
  {
   "cell_type": "code",
   "execution_count": null,
   "id": "ecb31dfe",
   "metadata": {},
   "outputs": [],
   "source": []
  },
  {
   "cell_type": "code",
   "execution_count": null,
   "id": "726e993d",
   "metadata": {},
   "outputs": [],
   "source": []
  },
  {
   "cell_type": "code",
   "execution_count": null,
   "id": "e726565b",
   "metadata": {},
   "outputs": [],
   "source": [
    "name alice"
   ]
  }
 ],
 "metadata": {
  "kernelspec": {
   "display_name": "Python 3 (ipykernel)",
   "language": "python",
   "name": "python3"
  },
  "language_info": {
   "codemirror_mode": {
    "name": "ipython",
    "version": 3
   },
   "file_extension": ".py",
   "mimetype": "text/x-python",
   "name": "python",
   "nbconvert_exporter": "python",
   "pygments_lexer": "ipython3",
   "version": "3.9.13"
  }
 },
 "nbformat": 4,
 "nbformat_minor": 5
}
