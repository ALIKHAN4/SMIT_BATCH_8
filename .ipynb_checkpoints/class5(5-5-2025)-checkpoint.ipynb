{
 "cells": [
  {
   "cell_type": "code",
   "execution_count": 5,
   "id": "a217913c",
   "metadata": {},
   "outputs": [],
   "source": [
    "txt = \"Hello, And Welcome To MY World!\""
   ]
  },
  {
   "cell_type": "code",
   "execution_count": 6,
   "id": "f239f4fe",
   "metadata": {},
   "outputs": [
    {
     "data": {
      "text/plain": [
       "'hello, and welcome to my world!'"
      ]
     },
     "execution_count": 6,
     "metadata": {},
     "output_type": "execute_result"
    }
   ],
   "source": [
    "txt.casefold()"
   ]
  },
  {
   "cell_type": "code",
   "execution_count": 7,
   "id": "3549accc",
   "metadata": {},
   "outputs": [
    {
     "data": {
      "text/plain": [
       "'hello, and welcome to my world!'"
      ]
     },
     "execution_count": 7,
     "metadata": {},
     "output_type": "execute_result"
    }
   ],
   "source": [
    "txt.lower()"
   ]
  },
  {
   "cell_type": "code",
   "execution_count": 8,
   "id": "bd98ef01",
   "metadata": {},
   "outputs": [],
   "source": [
    "text = 'groß'"
   ]
  },
  {
   "cell_type": "code",
   "execution_count": 9,
   "id": "1716fc92",
   "metadata": {},
   "outputs": [
    {
     "data": {
      "text/plain": [
       "'groß'"
      ]
     },
     "execution_count": 9,
     "metadata": {},
     "output_type": "execute_result"
    }
   ],
   "source": [
    "text.lower()"
   ]
  },
  {
   "cell_type": "code",
   "execution_count": 10,
   "id": "6a3ccc07",
   "metadata": {},
   "outputs": [
    {
     "data": {
      "text/plain": [
       "'gross'"
      ]
     },
     "execution_count": 10,
     "metadata": {},
     "output_type": "execute_result"
    }
   ],
   "source": [
    "text.casefold()"
   ]
  },
  {
   "cell_type": "code",
   "execution_count": 14,
   "id": "69353ed1",
   "metadata": {},
   "outputs": [],
   "source": [
    "country = 'Pakistan'"
   ]
  },
  {
   "cell_type": "code",
   "execution_count": 25,
   "id": "e63141b1",
   "metadata": {},
   "outputs": [
    {
     "data": {
      "text/plain": [
       "'***********Pakistan***********'"
      ]
     },
     "execution_count": 25,
     "metadata": {},
     "output_type": "execute_result"
    }
   ],
   "source": [
    "country.center(30, '*')"
   ]
  },
  {
   "cell_type": "code",
   "execution_count": 28,
   "id": "1428cb80",
   "metadata": {},
   "outputs": [
    {
     "data": {
      "text/plain": [
       "'Hello, And Welcome To MY World!'"
      ]
     },
     "execution_count": 28,
     "metadata": {},
     "output_type": "execute_result"
    }
   ],
   "source": [
    "txt"
   ]
  },
  {
   "cell_type": "code",
   "execution_count": 29,
   "id": "8e169e69",
   "metadata": {},
   "outputs": [
    {
     "data": {
      "text/plain": [
       "11"
      ]
     },
     "execution_count": 29,
     "metadata": {},
     "output_type": "execute_result"
    }
   ],
   "source": [
    "txt.find('Welcome')"
   ]
  },
  {
   "cell_type": "code",
   "execution_count": 30,
   "id": "294d236f",
   "metadata": {},
   "outputs": [
    {
     "data": {
      "text/plain": [
       "23"
      ]
     },
     "execution_count": 30,
     "metadata": {},
     "output_type": "execute_result"
    }
   ],
   "source": [
    "txt.find('Y')"
   ]
  },
  {
   "cell_type": "code",
   "execution_count": 31,
   "id": "cc0415e9",
   "metadata": {},
   "outputs": [
    {
     "data": {
      "text/plain": [
       "False"
      ]
     },
     "execution_count": 31,
     "metadata": {},
     "output_type": "execute_result"
    }
   ],
   "source": [
    "txt.isdecimal()"
   ]
  },
  {
   "cell_type": "code",
   "execution_count": 33,
   "id": "bbc9966d",
   "metadata": {},
   "outputs": [],
   "source": [
    "number = '123'"
   ]
  },
  {
   "cell_type": "code",
   "execution_count": 34,
   "id": "df9d72ad",
   "metadata": {},
   "outputs": [
    {
     "data": {
      "text/plain": [
       "True"
      ]
     },
     "execution_count": 34,
     "metadata": {},
     "output_type": "execute_result"
    }
   ],
   "source": [
    "number.isdecimal()"
   ]
  },
  {
   "cell_type": "code",
   "execution_count": 35,
   "id": "3eb77979",
   "metadata": {},
   "outputs": [],
   "source": [
    "number = '12.3'"
   ]
  },
  {
   "cell_type": "code",
   "execution_count": 36,
   "id": "62f05eee",
   "metadata": {},
   "outputs": [
    {
     "data": {
      "text/plain": [
       "False"
      ]
     },
     "execution_count": 36,
     "metadata": {},
     "output_type": "execute_result"
    }
   ],
   "source": [
    "number.isdecimal()"
   ]
  },
  {
   "cell_type": "code",
   "execution_count": 37,
   "id": "e999ca35",
   "metadata": {},
   "outputs": [
    {
     "data": {
      "text/plain": [
       "False"
      ]
     },
     "execution_count": 37,
     "metadata": {},
     "output_type": "execute_result"
    }
   ],
   "source": [
    "number.isdigit()"
   ]
  },
  {
   "cell_type": "code",
   "execution_count": 39,
   "id": "2c839489",
   "metadata": {},
   "outputs": [],
   "source": [
    "number = '12'"
   ]
  },
  {
   "cell_type": "code",
   "execution_count": 40,
   "id": "1618829d",
   "metadata": {},
   "outputs": [
    {
     "data": {
      "text/plain": [
       "True"
      ]
     },
     "execution_count": 40,
     "metadata": {},
     "output_type": "execute_result"
    }
   ],
   "source": [
    "number.isdigit()"
   ]
  },
  {
   "cell_type": "code",
   "execution_count": 41,
   "id": "e107dedb",
   "metadata": {},
   "outputs": [
    {
     "data": {
      "text/plain": [
       "True"
      ]
     },
     "execution_count": 41,
     "metadata": {},
     "output_type": "execute_result"
    }
   ],
   "source": [
    "number.isnumeric()"
   ]
  },
  {
   "cell_type": "code",
   "execution_count": 42,
   "id": "f459ec06",
   "metadata": {},
   "outputs": [],
   "source": [
    "another_number = '12.3'"
   ]
  },
  {
   "cell_type": "code",
   "execution_count": 43,
   "id": "5fb555e5",
   "metadata": {},
   "outputs": [
    {
     "data": {
      "text/plain": [
       "False"
      ]
     },
     "execution_count": 43,
     "metadata": {},
     "output_type": "execute_result"
    }
   ],
   "source": [
    "another_number.isnumeric()"
   ]
  },
  {
   "cell_type": "code",
   "execution_count": 44,
   "id": "a58208b5",
   "metadata": {},
   "outputs": [
    {
     "name": "stdout",
     "output_type": "stream",
     "text": [
      "5\n"
     ]
    }
   ],
   "source": [
    "num1 = 2\n",
    "num2 = 3\n",
    "print(num1 + num2)"
   ]
  },
  {
   "cell_type": "markdown",
   "id": "d8c6713c",
   "metadata": {},
   "source": [
    "## Concatenation"
   ]
  },
  {
   "cell_type": "code",
   "execution_count": 47,
   "id": "28edcc56",
   "metadata": {},
   "outputs": [
    {
     "name": "stdout",
     "output_type": "stream",
     "text": [
      "alikhan\n"
     ]
    }
   ],
   "source": [
    "fname = 'ali'\n",
    "lname = 'khan'\n",
    "print(fname + lname)"
   ]
  },
  {
   "cell_type": "code",
   "execution_count": 49,
   "id": "cfdd96f2",
   "metadata": {},
   "outputs": [
    {
     "name": "stdout",
     "output_type": "stream",
     "text": [
      "My name is ali khan\n"
     ]
    }
   ],
   "source": [
    "print('My name is ' + fname + ' ' + lname)"
   ]
  },
  {
   "cell_type": "code",
   "execution_count": 56,
   "id": "f19c1696",
   "metadata": {},
   "outputs": [],
   "source": [
    "profession = 'Instructor'\n",
    "course = 'Python'\n",
    "starts_from = 9\n",
    "ends_at = 11\n",
    "days = 'Monday Wednesday and friday'\n",
    "batch = 8\n",
    "campus = 'Gulshan Campus'\n",
    "institute = 'SMIT'\n",
    "city = 'Karachi'"
   ]
  },
  {
   "cell_type": "code",
   "execution_count": 65,
   "id": "0606f541",
   "metadata": {},
   "outputs": [
    {
     "ename": "TypeError",
     "evalue": "can only concatenate str (not \"int\") to str",
     "output_type": "error",
     "traceback": [
      "\u001b[1;31m---------------------------------------------------------------------------\u001b[0m",
      "\u001b[1;31mTypeError\u001b[0m                                 Traceback (most recent call last)",
      "Cell \u001b[1;32mIn[65], line 1\u001b[0m\n\u001b[1;32m----> 1\u001b[0m \u001b[38;5;28mprint\u001b[39m(\u001b[38;5;124m'\u001b[39m\u001b[38;5;124mMy name is \u001b[39m\u001b[38;5;124m'\u001b[39m \u001b[38;5;241m+\u001b[39m fname \u001b[38;5;241m+\u001b[39m\u001b[38;5;124m'\u001b[39m\u001b[38;5;124m \u001b[39m\u001b[38;5;124m'\u001b[39m\u001b[38;5;241m+\u001b[39m lname \u001b[38;5;241m+\u001b[39m \u001b[38;5;124m'\u001b[39m\u001b[38;5;124mI am\u001b[39m\u001b[38;5;124m'\u001b[39m \u001b[38;5;241m+\u001b[39m \u001b[38;5;124m'\u001b[39m\u001b[38;5;124m \u001b[39m\u001b[38;5;124m'\u001b[39m \u001b[38;5;241m+\u001b[39m course \u001b[38;5;241m+\u001b[39m \u001b[38;5;124m'\u001b[39m\u001b[38;5;124m \u001b[39m\u001b[38;5;124m'\u001b[39m \u001b[38;5;241m+\u001b[39m profession \u001b[38;5;241m+\u001b[39m \u001b[38;5;124m'\u001b[39m\u001b[38;5;124mMy class starts from \u001b[39m\u001b[38;5;124m'\u001b[39m \u001b[38;5;241m+\u001b[39m starts_from \u001b[38;5;241m+\u001b[39m \u001b[38;5;124m'\u001b[39m\u001b[38;5;124m \u001b[39m\u001b[38;5;124m'\u001b[39m \u001b[38;5;241m+\u001b[39m ends_at )\n",
      "\u001b[1;31mTypeError\u001b[0m: can only concatenate str (not \"int\") to str"
     ]
    }
   ],
   "source": [
    "print('My name is ' + fname +' '+ lname + 'I am' + ' ' + course + ' ' + profession + 'My class starts from ' + starts_from + ' ' + ends_at )"
   ]
  },
  {
   "cell_type": "code",
   "execution_count": 66,
   "id": "407702e7",
   "metadata": {},
   "outputs": [
    {
     "ename": "SyntaxError",
     "evalue": "unterminated string literal (detected at line 1) (2766184210.py, line 1)",
     "output_type": "error",
     "traceback": [
      "\u001b[1;36m  Cell \u001b[1;32mIn[66], line 1\u001b[1;36m\u001b[0m\n\u001b[1;33m    print('ali khan\u001b[0m\n\u001b[1;37m          ^\u001b[0m\n\u001b[1;31mSyntaxError\u001b[0m\u001b[1;31m:\u001b[0m unterminated string literal (detected at line 1)\n"
     ]
    }
   ],
   "source": [
    "print('ali khan \n",
    "      khan ')"
   ]
  },
  {
   "cell_type": "code",
   "execution_count": 68,
   "id": "1ce0dc95",
   "metadata": {},
   "outputs": [
    {
     "name": "stdout",
     "output_type": "stream",
     "text": [
      "ali khan\n",
      "ali khan\n",
      "\n"
     ]
    }
   ],
   "source": [
    "print(\"\"\"ali khan\n",
    "ali khan\n",
    "\"\"\")"
   ]
  },
  {
   "cell_type": "markdown",
   "id": "4f32e111",
   "metadata": {},
   "source": [
    "### String formatting\n",
    "- {} --> placeholder\n",
    "- f"
   ]
  },
  {
   "cell_type": "code",
   "execution_count": 73,
   "id": "0501bb75",
   "metadata": {},
   "outputs": [
    {
     "name": "stdout",
     "output_type": "stream",
     "text": [
      "My name is ali khan. I am a Python Instructor.\n",
      "My class starts from 9 and ends at 11.\n",
      "My working days are Monday Wednesday and friday. This is my batch 8 currently.\n",
      "I am teaching in SMIT Gulshan Campus, Karachi.\n",
      "\n",
      "\n"
     ]
    }
   ],
   "source": [
    "print(f'''My name is {fname} {lname}. I am a {course} {profession}.\n",
    "My class starts from {starts_from} and ends at {ends_at}.\n",
    "My working days are {days}. This is my batch {batch} currently.\n",
    "I am teaching in {institute} {campus}, {city}.\n",
    "\n",
    "''')"
   ]
  },
  {
   "cell_type": "code",
   "execution_count": 75,
   "id": "3f0abc5a",
   "metadata": {},
   "outputs": [
    {
     "data": {
      "text/plain": [
       "'My name is ali'"
      ]
     },
     "execution_count": 75,
     "metadata": {},
     "output_type": "execute_result"
    }
   ],
   "source": [
    "F'My name is {fname}'"
   ]
  },
  {
   "cell_type": "code",
   "execution_count": 77,
   "id": "92026d4b",
   "metadata": {},
   "outputs": [
    {
     "name": "stdout",
     "output_type": "stream",
     "text": [
      "mylast name is khan\n"
     ]
    }
   ],
   "source": [
    "print(F'mylast name is {lname}')"
   ]
  },
  {
   "cell_type": "code",
   "execution_count": 78,
   "id": "da490b0a",
   "metadata": {},
   "outputs": [],
   "source": [
    "num = 2\n",
    "fname = 'ali'"
   ]
  },
  {
   "cell_type": "markdown",
   "id": "695c4af4",
   "metadata": {},
   "source": [
    "# List"
   ]
  },
  {
   "cell_type": "code",
   "execution_count": 83,
   "id": "c94e6934",
   "metadata": {},
   "outputs": [],
   "source": [
    "fruits = ['apple','banana', 'mango', 'grapes', 'pineapple'] "
   ]
  },
  {
   "cell_type": "code",
   "execution_count": 84,
   "id": "ddeffa6a",
   "metadata": {},
   "outputs": [
    {
     "name": "stdout",
     "output_type": "stream",
     "text": [
      "['apple', 'banana', 'mango', 'grapes', 'pineapple']\n"
     ]
    }
   ],
   "source": [
    "print(fruits)"
   ]
  },
  {
   "cell_type": "code",
   "execution_count": 85,
   "id": "43452996",
   "metadata": {},
   "outputs": [
    {
     "name": "stdout",
     "output_type": "stream",
     "text": [
      "<class 'list'>\n"
     ]
    }
   ],
   "source": [
    "print(type(fruits))"
   ]
  },
  {
   "cell_type": "code",
   "execution_count": 87,
   "id": "f900e2a2",
   "metadata": {},
   "outputs": [],
   "source": [
    "marks = [12,14,12,26,36,56]"
   ]
  },
  {
   "cell_type": "code",
   "execution_count": 88,
   "id": "8a3de1e2",
   "metadata": {},
   "outputs": [
    {
     "data": {
      "text/plain": [
       "[12, 14, 12, 26, 36, 56]"
      ]
     },
     "execution_count": 88,
     "metadata": {},
     "output_type": "execute_result"
    }
   ],
   "source": [
    "marks"
   ]
  },
  {
   "cell_type": "code",
   "execution_count": 89,
   "id": "b4501d0a",
   "metadata": {},
   "outputs": [],
   "source": [
    "weights = [50.1, 45.3, 67.7, 89.3]"
   ]
  },
  {
   "cell_type": "code",
   "execution_count": 90,
   "id": "7c340ec5",
   "metadata": {},
   "outputs": [
    {
     "data": {
      "text/plain": [
       "[50.1, 45.3, 67.7, 89.3]"
      ]
     },
     "execution_count": 90,
     "metadata": {},
     "output_type": "execute_result"
    }
   ],
   "source": [
    "weights"
   ]
  },
  {
   "cell_type": "code",
   "execution_count": 92,
   "id": "92b557ca",
   "metadata": {},
   "outputs": [],
   "source": [
    "is_fever = [True, True, False, True, False]"
   ]
  },
  {
   "cell_type": "code",
   "execution_count": 94,
   "id": "6a87fdee",
   "metadata": {},
   "outputs": [
    {
     "data": {
      "text/plain": [
       "list"
      ]
     },
     "execution_count": 94,
     "metadata": {},
     "output_type": "execute_result"
    }
   ],
   "source": [
    "type(is_fever)"
   ]
  },
  {
   "cell_type": "code",
   "execution_count": 95,
   "id": "76254507",
   "metadata": {},
   "outputs": [],
   "source": [
    "mixed = ['Ali khan',12,12.3, True]"
   ]
  },
  {
   "cell_type": "code",
   "execution_count": 97,
   "id": "c05ec09a",
   "metadata": {},
   "outputs": [
    {
     "name": "stdout",
     "output_type": "stream",
     "text": [
      "['Ali khan', 12, 12.3, True]\n"
     ]
    }
   ],
   "source": [
    "print(mixed)"
   ]
  },
  {
   "cell_type": "code",
   "execution_count": null,
   "id": "af2902ee",
   "metadata": {},
   "outputs": [],
   "source": []
  },
  {
   "cell_type": "code",
   "execution_count": null,
   "id": "5e667209",
   "metadata": {},
   "outputs": [],
   "source": []
  }
 ],
 "metadata": {
  "kernelspec": {
   "display_name": "Python 3 (ipykernel)",
   "language": "python",
   "name": "python3"
  },
  "language_info": {
   "codemirror_mode": {
    "name": "ipython",
    "version": 3
   },
   "file_extension": ".py",
   "mimetype": "text/x-python",
   "name": "python",
   "nbconvert_exporter": "python",
   "pygments_lexer": "ipython3",
   "version": "3.11.5"
  }
 },
 "nbformat": 4,
 "nbformat_minor": 5
}
